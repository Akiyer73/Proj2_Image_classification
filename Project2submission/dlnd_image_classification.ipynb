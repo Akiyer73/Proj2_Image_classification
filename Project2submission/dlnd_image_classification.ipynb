{
 "cells": [
  {
   "cell_type": "markdown",
   "metadata": {
    "collapsed": true,
    "deletable": true,
    "editable": true
   },
   "source": [
    "# Image Classification\n",
    "In this project, you'll classify images from the [CIFAR-10 dataset](https://www.cs.toronto.edu/~kriz/cifar.html).  The dataset consists of airplanes, dogs, cats, and other objects. You'll preprocess the images, then train a convolutional neural network on all the samples. The images need to be normalized and the labels need to be one-hot encoded.  You'll get to apply what you learned and build a convolutional, max pooling, dropout, and fully connected layers.  At the end, you'll get to see your neural network's predictions on the sample images.\n",
    "## Get the Data\n",
    "Run the following cell to download the [CIFAR-10 dataset for python](https://www.cs.toronto.edu/~kriz/cifar-10-python.tar.gz)."
   ]
  },
  {
   "cell_type": "code",
   "execution_count": 1,
   "metadata": {
    "collapsed": false,
    "deletable": true,
    "editable": true
   },
   "outputs": [
    {
     "name": "stdout",
     "output_type": "stream",
     "text": [
      "All files found!\n"
     ]
    }
   ],
   "source": [
    "\"\"\"\n",
    "DON'T MODIFY ANYTHING IN THIS CELL THAT IS BELOW THIS LINE\n",
    "\"\"\"\n",
    "from urllib.request import urlretrieve\n",
    "from os.path import isfile, isdir\n",
    "from tqdm import tqdm\n",
    "import problem_unittests as tests\n",
    "import tarfile\n",
    "\n",
    "cifar10_dataset_folder_path = 'cifar-10-batches-py'\n",
    "\n",
    "class DLProgress(tqdm):\n",
    "    last_block = 0\n",
    "\n",
    "    def hook(self, block_num=1, block_size=1, total_size=None):\n",
    "        self.total = total_size\n",
    "        self.update((block_num - self.last_block) * block_size)\n",
    "        self.last_block = block_num\n",
    "\n",
    "if not isfile('cifar-10-python.tar.gz'):\n",
    "    with DLProgress(unit='B', unit_scale=True, miniters=1, desc='CIFAR-10 Dataset') as pbar:\n",
    "        urlretrieve(\n",
    "            'https://www.cs.toronto.edu/~kriz/cifar-10-python.tar.gz',\n",
    "            'cifar-10-python.tar.gz',\n",
    "            pbar.hook)\n",
    "\n",
    "if not isdir(cifar10_dataset_folder_path):\n",
    "    with tarfile.open('cifar-10-python.tar.gz') as tar:\n",
    "        tar.extractall()\n",
    "        tar.close()\n",
    "\n",
    "\n",
    "tests.test_folder_path(cifar10_dataset_folder_path)"
   ]
  },
  {
   "cell_type": "markdown",
   "metadata": {
    "deletable": true,
    "editable": true
   },
   "source": [
    "## Explore the Data\n",
    "The dataset is broken into batches to prevent your machine from running out of memory.  The CIFAR-10 dataset consists of 5 batches, named `data_batch_1`, `data_batch_2`, etc.. Each batch contains the labels and images that are one of the following:\n",
    "* airplane\n",
    "* automobile\n",
    "* bird\n",
    "* cat\n",
    "* deer\n",
    "* dog\n",
    "* frog\n",
    "* horse\n",
    "* ship\n",
    "* truck\n",
    "\n",
    "Understanding a dataset is part of making predictions on the data.  Play around with the code cell below by changing the `batch_id` and `sample_id`. The `batch_id` is the id for a batch (1-5). The `sample_id` is the id for a image and label pair in the batch.\n",
    "\n",
    "Ask yourself \"What are all possible labels?\", \"What is the range of values for the image data?\", \"Are the labels in order or random?\".  Answers to questions like these will help you preprocess the data and end up with better predictions."
   ]
  },
  {
   "cell_type": "code",
   "execution_count": 2,
   "metadata": {
    "collapsed": false,
    "deletable": true,
    "editable": true
   },
   "outputs": [
    {
     "name": "stdout",
     "output_type": "stream",
     "text": [
      "\n",
      "Stats of batch 1:\n",
      "Samples: 10000\n",
      "Label Counts: {0: 1005, 1: 974, 2: 1032, 3: 1016, 4: 999, 5: 937, 6: 1030, 7: 1001, 8: 1025, 9: 981}\n",
      "First 20 Labels: [6, 9, 9, 4, 1, 1, 2, 7, 8, 3, 4, 7, 7, 2, 9, 9, 9, 3, 2, 6]\n",
      "\n",
      "Example of Image 5:\n",
      "Image - Min Value: 0 Max Value: 252\n",
      "Image - Shape: (32, 32, 3)\n",
      "Label - Label Id: 1 Name: automobile\n"
     ]
    },
    {
     "data": {
      "image/png": "[encoded data removed]",
      "text/plain": [
       "<matplotlib.figure.Figure at 0x2cbc54cdb00>"
      ]
     },
     "metadata": {
      "image/png": {
       "height": 250,
       "width": 253
      }
     },
     "output_type": "display_data"
    }
   ],
   "source": [
    "%matplotlib inline\n",
    "%config InlineBackend.figure_format = 'retina'\n",
    "\n",
    "import helper\n",
    "import numpy as np\n",
    "\n",
    "# Explore the dataset\n",
    "batch_id = 1\n",
    "sample_id = 5\n",
    "helper.display_stats(cifar10_dataset_folder_path, batch_id, sample_id)"
   ]
  },
  {
   "cell_type": "markdown",
   "metadata": {
    "deletable": true,
    "editable": true
   },
   "source": [
    "## Implement Preprocess Functions\n",
    "### Normalize\n",
    "In the cell below, implement the `normalize` function to take in image data, `x`, and return it as a normalized Numpy array. The values should be in the range of 0 to 1, inclusive.  The return object should be the same shape as `x`."
   ]
  },
  {
   "cell_type": "code",
   "execution_count": 3,
   "metadata": {
    "collapsed": false,
    "deletable": true,
    "editable": true
   },
   "outputs": [
    {
     "name": "stdout",
     "output_type": "stream",
     "text": [
      "Tests Passed\n"
     ]
    }
   ],
   "source": [
    "def normalize(x):\n",
    "    \"\"\"\n",
    "    Normalize a list of sample image data in the range of 0 to 1\n",
    "    : x: List of image data.  The image shape is (32, 32, 3)\n",
    "    : return: Numpy array of normalize data\n",
    "    \"\"\"\n",
    "    # TODO: Implement Function\n",
    "    # image has 0 to 255 as values and range needed is 0 to 1. (x-xmin)(b-a)/(xmax-xmin) converts to x/255\n",
    "    x = x/255\n",
    "    return x\n",
    "\n",
    "\n",
    "\"\"\"\n",
    "DON'T MODIFY ANYTHING IN THIS CELL THAT IS BELOW THIS LINE\n",
    "\"\"\"\n",
    "tests.test_normalize(normalize)"
   ]
  },
  {
   "cell_type": "markdown",
   "metadata": {
    "deletable": true,
    "editable": true
   },
   "source": [
    "### One-hot encode\n",
    "Just like the previous code cell, you'll be implementing a function for preprocessing.  This time, you'll implement the `one_hot_encode` function. The input, `x`, are a list of labels.  Implement the function to return the list of labels as One-Hot encoded Numpy array.  The possible values for labels are 0 to 9. The one-hot encoding function should return the same encoding for each value between each call to `one_hot_encode`.  Make sure to save the map of encodings outside the function.\n",
    "\n",
    "Hint: Don't reinvent the wheel."
   ]
  },
  {
   "cell_type": "code",
   "execution_count": 4,
   "metadata": {
    "collapsed": false,
    "deletable": true,
    "editable": true
   },
   "outputs": [
    {
     "name": "stdout",
     "output_type": "stream",
     "text": [
      "Tests Passed\n"
     ]
    }
   ],
   "source": [
    "from sklearn.preprocessing import OneHotEncoder\n",
    "import pandas as pd\n",
    "\n",
    "def one_hot_encode(x):\n",
    "    \"\"\"\n",
    "    One hot encode a list of sample labels. Return a one-hot encoded vector for each label.\n",
    "    : x: List of sample Labels\n",
    "    : return: Numpy array of one-hot encoded labels\n",
    "    \"\"\"\n",
    "    # TODO: Implement Function\n",
    "   # x= x.reshape(-1,1)\n",
    "\n",
    "    #lb = preprocessing.LabelBinarizer()\n",
    "    #encoder= lb.fit(x)\n",
    "    #encoder = lb.transform(x)\n",
    "    enc = OneHotEncoder(n_values=10)\n",
    "    labels_df = pd.DataFrame(x)\n",
    "    labels_df = enc.fit_transform(labels_df)\n",
    "    #print(labels_df)\n",
    "    return labels_df.toarray()\n",
    "    \n",
    "    #return x\n",
    "    \n",
    "\n",
    "\"\"\"\n",
    "DON'T MODIFY ANYTHING IN THIS CELL THAT IS BELOW THIS LINE\n",
    "\"\"\"\n",
    "tests.test_one_hot_encode(one_hot_encode)"
   ]
  },
  {
   "cell_type": "markdown",
   "metadata": {
    "deletable": true,
    "editable": true
   },
   "source": [
    "### Randomize Data\n",
    "As you saw from exploring the data above, the order of the samples are randomized.  It doesn't hurt to randomize it again, but you don't need to for this dataset."
   ]
  },
  {
   "cell_type": "markdown",
   "metadata": {
    "deletable": true,
    "editable": true
   },
   "source": [
    "## Preprocess all the data and save it\n",
    "Running the code cell below will preprocess all the CIFAR-10 data and save it to file. The code below also uses 10% of the training data for validation."
   ]
  },
  {
   "cell_type": "code",
   "execution_count": 5,
   "metadata": {
    "collapsed": false,
    "deletable": true,
    "editable": true
   },
   "outputs": [],
   "source": [
    "\"\"\"\n",
    "DON'T MODIFY ANYTHING IN THIS CELL\n",
    "\"\"\"\n",
    "# Preprocess Training, Validation, and Testing Data\n",
    "helper.preprocess_and_save_data(cifar10_dataset_folder_path, normalize, one_hot_encode)"
   ]
  },
  {
   "cell_type": "markdown",
   "metadata": {
    "deletable": true,
    "editable": true
   },
   "source": [
    "# Check Point\n",
    "This is your first checkpoint.  If you ever decide to come back to this notebook or have to restart the notebook, you can start from here.  The preprocessed data has been saved to disk."
   ]
  },
  {
   "cell_type": "code",
   "execution_count": 6,
   "metadata": {
    "collapsed": true,
    "deletable": true,
    "editable": true
   },
   "outputs": [],
   "source": [
    "\"\"\"\n",
    "DON'T MODIFY ANYTHING IN THIS CELL\n",
    "\"\"\"\n",
    "import pickle\n",
    "import problem_unittests as tests\n",
    "import helper\n",
    "\n",
    "# Load the Preprocessed Validation data\n",
    "valid_features, valid_labels = pickle.load(open('preprocess_validation.p', mode='rb'))"
   ]
  },
  {
   "cell_type": "markdown",
   "metadata": {
    "deletable": true,
    "editable": true
   },
   "source": [
    "## Build the network\n",
    "For the neural network, you'll build each layer into a function.  Most of the code you've seen has been outside of functions. To test your code more thoroughly, we require that you put each layer in a function.  This allows us to give you better feedback and test for simple mistakes using our unittests before you submit your project.\n",
    "\n",
    "If you're finding it hard to dedicate enough time for this course a week, we've provided a small shortcut to this part of the project. In the next couple of problems, you'll have the option to use [TensorFlow Layers](https://www.tensorflow.org/api_docs/python/tf/layers) or [TensorFlow Layers (contrib)](https://www.tensorflow.org/api_guides/python/contrib.layers) to build each layer, except \"Convolutional & Max Pooling\" layer.  TF Layers is similar to Keras's and TFLearn's abstraction to layers, so it's easy to pickup.\n",
    "\n",
    "If you would like to get the most of this course, try to solve all the problems without TF Layers.  Let's begin!\n",
    "### Input\n",
    "The neural network needs to read the image data, one-hot encoded labels, and dropout keep probability. Implement the following functions\n",
    "* Implement `neural_net_image_input`\n",
    " * Return a [TF Placeholder](https://www.tensorflow.org/api_docs/python/tf/placeholder)\n",
    " * Set the shape using `image_shape` with batch size set to `None`.\n",
    " * Name the TensorFlow placeholder \"x\" using the TensorFlow `name` parameter in the [TF Placeholder](https://www.tensorflow.org/api_docs/python/tf/placeholder).\n",
    "* Implement `neural_net_label_input`\n",
    " * Return a [TF Placeholder](https://www.tensorflow.org/api_docs/python/tf/placeholder)\n",
    " * Set the shape using `n_classes` with batch size set to `None`.\n",
    " * Name the TensorFlow placeholder \"y\" using the TensorFlow `name` parameter in the [TF Placeholder](https://www.tensorflow.org/api_docs/python/tf/placeholder).\n",
    "* Implement `neural_net_keep_prob_input`\n",
    " * Return a [TF Placeholder](https://www.tensorflow.org/api_docs/python/tf/placeholder) for dropout keep probability.\n",
    " * Name the TensorFlow placeholder \"keep_prob\" using the TensorFlow `name` parameter in the [TF Placeholder](https://www.tensorflow.org/api_docs/python/tf/placeholder).\n",
    "\n",
    "These names will be used at the end of the project to load your saved model.\n",
    "\n",
    "Note: `None` for shapes in TensorFlow allow for a dynamic size."
   ]
  },
  {
   "cell_type": "code",
   "execution_count": 7,
   "metadata": {
    "collapsed": false,
    "deletable": true,
    "editable": true
   },
   "outputs": [
    {
     "name": "stdout",
     "output_type": "stream",
     "text": [
      "Image Input Tests Passed.\n",
      "Label Input Tests Passed.\n",
      "Keep Prob Tests Passed.\n"
     ]
    }
   ],
   "source": [
    "import tensorflow as tf\n",
    "\n",
    "def neural_net_image_input(image_shape):\n",
    "    \"\"\"\n",
    "    Return a Tensor for a bach of image input\n",
    "    : image_shape: Shape of the images\n",
    "    : return: Tensor for image input.\n",
    "    \"\"\"\n",
    "    # TODO: Implement Function\n",
    "    # tf Graph input\n",
    "    x= tf.placeholder(tf.float32,  shape = [None, *image_shape], name = \"x\")\n",
    "    #x_flat = tf.reshape(x,[-1,image_shape])\n",
    "    return x\n",
    "\n",
    "\n",
    "def neural_net_label_input(n_classes):\n",
    "    \"\"\"\n",
    "    Return a Tensor for a batch of label input\n",
    "    : n_classes: Number of classes\n",
    "    : return: Tensor for label input.\n",
    "    \"\"\"\n",
    "    # TODO: Implement Function\n",
    "    y = tf.placeholder(tf.float32, shape = [None, n_classes], name= \"y\")\n",
    "    return y\n",
    "\n",
    "\n",
    "def neural_net_keep_prob_input():\n",
    "    \"\"\"\n",
    "    Return a Tensor for keep probability\n",
    "    : return: Tensor for keep probability.\n",
    "    \"\"\"\n",
    "    # TODO: Implement Function\n",
    "    keep_prob = tf.placeholder(tf.float32, name =\"keep_prob\")\n",
    "    return keep_prob\n",
    "\n",
    "\n",
    "\"\"\"\n",
    "DON'T MODIFY ANYTHING IN THIS CELL THAT IS BELOW THIS LINE\n",
    "\"\"\"\n",
    "tf.reset_default_graph()\n",
    "tests.test_nn_image_inputs(neural_net_image_input)\n",
    "tests.test_nn_label_inputs(neural_net_label_input)\n",
    "tests.test_nn_keep_prob_inputs(neural_net_keep_prob_input)"
   ]
  },
  {
   "cell_type": "raw",
   "metadata": {
    "deletable": true,
    "editable": true
   },
   "source": [
    "### Convolution and Max Pooling Layer\n",
    "Convolution layers have a lot of success with images. For this code cell, you should implement the function `conv2d_maxpool` to apply convolution then max pooling:\n",
    "* Create the weight and bias using `conv_ksize`, `conv_num_outputs` and the shape of `x_tensor`.\n",
    "* Apply a convolution to `x_tensor` using weight and `conv_strides`.\n",
    " * We recommend you use same padding, but you're welcome to use any padding.\n",
    "* Add bias\n",
    "* Add a nonlinear activation to the convolution.\n",
    "* Apply Max Pooling using `pool_ksize` and `pool_strides`.\n",
    " * We recommend you use same padding, but you're welcome to use any padding.\n",
    "\n",
    "Note: You **can't** use [TensorFlow Layers](https://www.tensorflow.org/api_docs/python/tf/layers) or [TensorFlow Layers (contrib)](https://www.tensorflow.org/api_guides/python/contrib.layers) for this layer.  You're free to use any TensorFlow package for all the other layers."
   ]
  },
  {
   "cell_type": "code",
   "execution_count": 8,
   "metadata": {
    "collapsed": false,
    "deletable": true,
    "editable": true
   },
   "outputs": [
    {
     "name": "stdout",
     "output_type": "stream",
     "text": [
      "Tests Passed\n"
     ]
    }
   ],
   "source": [
    "def conv2d_maxpool(x_tensor, conv_num_outputs, conv_ksize, conv_strides, pool_ksize, pool_strides):\n",
    "    \"\"\"\n",
    "    Apply convolution then max pooling to x_tensor\n",
    "    :param x_tensor: TensorFlow Tensor\n",
    "    :param conv_num_outputs: Number of outputs for the convolutional layer\n",
    "    :param conv_strides: Stride 2-D Tuple for convolution\n",
    "    :param pool_ksize: kernal size 2-D Tuple for pool\n",
    "    :param pool_strides: Stride 2-D Tuple for pool\n",
    "    : return: A tensor that represents convolution and max pooling of x_tensor\n",
    "    \"\"\"\n",
    "    # TODO: Implement Function\n",
    "    #Convolution    \n",
    "    #shapes = x_tensor.get_shape().as_list()\n",
    "    input_channel_depth = int(x_tensor.get_shape()[3])\n",
    "    conv1_W = tf.Variable(tf.truncated_normal([*conv_ksize, input_channel_depth, conv_num_outputs], mean = 0, stddev = 0.1, dtype=tf.float32))\n",
    "    conv1_b = tf.Variable(tf.zeros(conv_num_outputs))\n",
    "    conv1   = tf.nn.conv2d(x_tensor, conv1_W, strides=[1, *conv_strides,1], padding='VALID') + conv1_b\n",
    "    conv1 = tf.nn.relu(conv1)\n",
    "    conv1 = tf.nn.max_pool(conv1, [1, *pool_ksize,1], strides=[1, *pool_strides,1], padding='VALID')\n",
    "                          \n",
    "    return conv1 \n",
    "\n",
    "\n",
    "\n",
    "\"\"\"\n",
    "DON'T MODIFY ANYTHING IN THIS CELL THAT IS BELOW THIS LINE\n",
    "\"\"\"\n",
    "tests.test_con_pool(conv2d_maxpool)"
   ]
  },
  {
   "cell_type": "markdown",
   "metadata": {
    "deletable": true,
    "editable": true
   },
   "source": [
    "### Flatten Layer\n",
    "Implement the `flatten` function to change the dimension of `x_tensor` from a 4-D tensor to a 2-D tensor.  The output should be the shape (*Batch Size*, *Flattened Image Size*). You can use [TensorFlow Layers](https://www.tensorflow.org/api_docs/python/tf/layers) or [TensorFlow Layers (contrib)](https://www.tensorflow.org/api_guides/python/contrib.layers) for this layer."
   ]
  },
  {
   "cell_type": "code",
   "execution_count": 9,
   "metadata": {
    "collapsed": false,
    "deletable": true,
    "editable": true
   },
   "outputs": [
    {
     "name": "stdout",
     "output_type": "stream",
     "text": [
      "Tests Passed\n"
     ]
    }
   ],
   "source": [
    "from tensorflow.contrib.layers import flatten\n",
    "def flatten(x_tensor):\n",
    "    \"\"\"\n",
    "    Flatten x_tensor to (Batch Size, Flattened Image Size)\n",
    "    : x_tensor: A tensor of size (Batch Size, ...), where ... are the image dimensions.\n",
    "    : return: A tensor of size (Batch Size, Flattened Image Size).\n",
    "    \"\"\"\n",
    "    # TODO: Implement Function\n",
    "    flat = tf.contrib.layers.flatten(x_tensor)\n",
    "    return flat\n",
    "\n",
    "\n",
    "\"\"\"\n",
    "DON'T MODIFY ANYTHING IN THIS CELL THAT IS BELOW THIS LINE\n",
    "\"\"\"\n",
    "tests.test_flatten(flatten)"
   ]
  },
  {
   "cell_type": "markdown",
   "metadata": {
    "deletable": true,
    "editable": true
   },
   "source": [
    "### Fully-Connected Layer\n",
    "Implement the `fully_conn` function to apply a fully connected layer to `x_tensor` with the shape (*Batch Size*, *num_outputs*). You can use [TensorFlow Layers](https://www.tensorflow.org/api_docs/python/tf/layers) or [TensorFlow Layers (contrib)](https://www.tensorflow.org/api_guides/python/contrib.layers) for this layer."
   ]
  },
  {
   "cell_type": "code",
   "execution_count": 10,
   "metadata": {
    "collapsed": false,
    "deletable": true,
    "editable": true
   },
   "outputs": [
    {
     "name": "stdout",
     "output_type": "stream",
     "text": [
      "Tests Passed\n"
     ]
    }
   ],
   "source": [
    "def fully_conn(x_tensor, num_outputs):\n",
    "    \"\"\"\n",
    "    Apply a fully connected layer to x_tensor using weight and bias\n",
    "    : x_tensor: A 2-D tensor where the first dimension is batch size.\n",
    "    : num_outputs: The number of output that the new tensor should be.\n",
    "    : return: A 2-D tensor where the second dimension is num_outputs.\n",
    "    \"\"\"\n",
    "    # TODO: Implement Function\n",
    "\n",
    "    \n",
    "    depth = int(x_tensor.get_shape()[1])\n",
    "    fc1_W = tf.Variable(tf.truncated_normal(shape= [depth,num_outputs]), dtype = tf.float32)\n",
    "    fc1_b = tf.Variable(tf.zeros(num_outputs))\n",
    "    fc1   = tf.matmul(x_tensor, fc1_W) + fc1_b\n",
    "    fc1 = tf.nn.relu(fc1) # applied Relu Nonlinear activation to fully connected layer\n",
    "    return fc1\n",
    "\n",
    "\n",
    "\"\"\"\n",
    "DON'T MODIFY ANYTHING IN THIS CELL THAT IS BELOW THIS LINE\n",
    "\"\"\"\n",
    "tests.test_fully_conn(fully_conn)"
   ]
  },
  {
   "cell_type": "markdown",
   "metadata": {
    "deletable": true,
    "editable": true
   },
   "source": [
    "### Output Layer\n",
    "Implement the `output` function to apply a fully connected layer to `x_tensor` with the shape (*Batch Size*, *num_outputs*). You can use [TensorFlow Layers](https://www.tensorflow.org/api_docs/python/tf/layers) or [TensorFlow Layers (contrib)](https://www.tensorflow.org/api_guides/python/contrib.layers) for this layer.\n",
    "\n",
    "Note: Activation, softmax, or cross entropy shouldn't be applied to this."
   ]
  },
  {
   "cell_type": "code",
   "execution_count": 11,
   "metadata": {
    "collapsed": false,
    "deletable": true,
    "editable": true
   },
   "outputs": [
    {
     "name": "stdout",
     "output_type": "stream",
     "text": [
      "Tests Passed\n"
     ]
    }
   ],
   "source": [
    "def output(x_tensor, num_outputs):\n",
    "    \"\"\"\n",
    "    Apply a output layer to x_tensor using weight and bias\n",
    "    : x_tensor: A 2-D tensor where the first dimension is batch size.\n",
    "    : num_outputs: The number of output that the new tensor should be.\n",
    "    : return: A 2-D tensor where the second dimension is num_outputs.\n",
    "    \"\"\"\n",
    "    # TODO: Implement Function\n",
    "    depth2 = int(x_tensor.get_shape()[1])\n",
    "    fc2_W  = tf.Variable(tf.truncated_normal(shape=(depth2, num_outputs),  mean = 0, stddev = 0.1))\n",
    "    fc2_b  = tf.Variable(tf.zeros(num_outputs))\n",
    "    fc2    = tf.matmul(x_tensor, fc2_W) + fc2_b\n",
    "    return fc2\n",
    "\n",
    "\n",
    "\"\"\"\n",
    "DON'T MODIFY ANYTHING IN THIS CELL THAT IS BELOW THIS LINE\n",
    "\"\"\"\n",
    "tests.test_output(output)"
   ]
  },
  {
   "cell_type": "markdown",
   "metadata": {
    "deletable": true,
    "editable": true
   },
   "source": [
    "### Create Convolutional Model\n",
    "Implement the function `conv_net` to create a convolutional neural network model. The function takes in a batch of images, `x`, and outputs logits.  Use the layers you created above to create this model:\n",
    "\n",
    "* Apply 1, 2, or 3 Convolution and Max Pool layers\n",
    "* Apply a Flatten Layer\n",
    "* Apply 1, 2, or 3 Fully Connected Layers\n",
    "* Apply an Output Layer\n",
    "* Return the output\n",
    "* Apply [TensorFlow's Dropout](https://www.tensorflow.org/api_docs/python/tf/nn/dropout) to one or more layers in the model using `keep_prob`. "
   ]
  },
  {
   "cell_type": "code",
   "execution_count": 12,
   "metadata": {
    "collapsed": false,
    "deletable": true,
    "editable": true
   },
   "outputs": [
    {
     "name": "stdout",
     "output_type": "stream",
     "text": [
      "Neural Network Built!\n"
     ]
    }
   ],
   "source": [
    "def conv_net(x, keep_prob):\n",
    "    \"\"\"\n",
    "    Create a convolutional neural network model\n",
    "    : x: Placeholder tensor that holds image data.\n",
    "    : keep_prob: Placeholder tensor that hold dropout keep probability.\n",
    "    : return: Tensor that represents logits\n",
    "    \"\"\"\n",
    "    # TODO: Apply 1, 2, or 3 Convolution and Max Pool layers\n",
    "    #    Play around with different number of outputs, kernel size and stride\n",
    "    # Function Definition from Above:\n",
    "    #    conv2d_maxpool(x_tensor, conv_num_outputs, conv_ksize, conv_strides, pool_ksize, pool_strides)\n",
    "\n",
    "    x_tensor = x\n",
    "    conv_num_outputs = 32\n",
    "    conv_ksize = (3,3)\n",
    "    conv_strides = (1,1)\n",
    "    pool_ksize = (2,2)\n",
    "    pool_strides = (2,2)\n",
    "    conv1 = conv2d_maxpool(x_tensor, conv_num_outputs, conv_ksize, conv_strides, pool_ksize, pool_strides)\n",
    "    \n",
    "    conv_num_outputs = 128\n",
    "    conv2 = conv2d_maxpool(conv1, conv_num_outputs, conv_ksize, conv_strides, pool_ksize, pool_strides)\n",
    "    \n",
    "    conv_num_outputs = 256\n",
    "    conv3 = conv2d_maxpool(conv2, conv_num_outputs, conv_ksize, conv_strides, pool_ksize, pool_strides)\n",
    "   \n",
    "   \n",
    "    # TODO: Apply a Flatten Layer\n",
    "    # Function Definition from Above:\n",
    "    #   flatten(x_tensor)\n",
    "    flat_x = flatten(conv3)\n",
    "\n",
    "    # TODO: Apply 1, 2, or 3 Fully Connected Layers\n",
    "    #    Play around with different number of outputs\n",
    "    # Function Definition from Above:\n",
    "    #   fully_conn(x_tensor, num_outputs)\n",
    "    num_outputs = 512\n",
    "    fc1 = fully_conn(flat_x, num_outputs)\n",
    "#    fc1 = tf.nn.dropout(fc1, keep_prob) # added dropout in conv_net\n",
    "    \n",
    "    num_outputs = 256\n",
    "    fc2 = fully_conn(fc1, num_outputs)\n",
    "    fc2 = tf.nn.dropout(fc2, keep_prob) # added dropout in conv_net\n",
    "    \n",
    "    num_outputs = 10\n",
    "    # TODO: Apply an Output Layer\n",
    "    #    Set this to the number of classes\n",
    "    # Function Definition from Above:\n",
    "    #   output(x_tensor, num_outputs)\n",
    "    out1 = output(fc2, num_outputs) # changed to output to apply output layer\n",
    "    # TODO: return output\n",
    "    return out1\n",
    "\n",
    "\n",
    "\"\"\"\n",
    "DON'T MODIFY ANYTHING IN THIS CELL THAT IS BELOW THIS LINE\n",
    "\"\"\"\n",
    "\n",
    "##############################\n",
    "## Build the Neural Network ##\n",
    "##############################\n",
    "\n",
    "# Remove previous weights, bias, inputs, etc..\n",
    "tf.reset_default_graph()\n",
    "# Inputs\n",
    "x = neural_net_image_input((32, 32, 3))\n",
    "y = neural_net_label_input(10)\n",
    "keep_prob = neural_net_keep_prob_input()\n",
    "\n",
    "# Model\n",
    "logits = conv_net(x, keep_prob)\n",
    "\n",
    "# Name logits Tensor, so that is can be loaded from disk after training\n",
    "logits = tf.identity(logits, name='logits')\n",
    "\n",
    "# Loss and Optimizer\n",
    "cost = tf.reduce_mean(tf.nn.softmax_cross_entropy_with_logits(logits=logits, labels=y))\n",
    "optimizer = tf.train.AdamOptimizer().minimize(cost)\n",
    "\n",
    "# Accuracy\n",
    "correct_pred = tf.equal(tf.argmax(logits, 1), tf.argmax(y, 1))\n",
    "accuracy = tf.reduce_mean(tf.cast(correct_pred, tf.float32), name='accuracy')\n",
    "\n",
    "tests.test_conv_net(conv_net)"
   ]
  },
  {
   "cell_type": "markdown",
   "metadata": {
    "deletable": true,
    "editable": true
   },
   "source": [
    "## Train the Neural Network\n",
    "### Single Optimization\n",
    "Implement the function `train_neural_network` to do a single optimization.  The optimization should use `optimizer` to optimize in `session` with a `feed_dict` of the following:\n",
    "* `x` for image input\n",
    "* `y` for labels\n",
    "* `keep_prob` for keep probability for dropout\n",
    "\n",
    "This function will be called for each batch, so `tf.global_variables_initializer()` has already been called.\n",
    "\n",
    "Note: Nothing needs to be returned. This function is only optimizing the neural network."
   ]
  },
  {
   "cell_type": "code",
   "execution_count": 13,
   "metadata": {
    "collapsed": false,
    "deletable": true,
    "editable": true
   },
   "outputs": [
    {
     "name": "stdout",
     "output_type": "stream",
     "text": [
      "Tests Passed\n"
     ]
    }
   ],
   "source": [
    "def train_neural_network(session, optimizer, keep_probability, feature_batch, label_batch):\n",
    "    \"\"\"\n",
    "    Optimize the session on a batch of images and labels\n",
    "    : session: Current TensorFlow session\n",
    "    : optimizer: TensorFlow optimizer function\n",
    "    : keep_probability: keep probability\n",
    "    : feature_batch: Batch of Numpy image data\n",
    "    : label_batch: Batch of Numpy label data\n",
    "    \"\"\"\n",
    "    # TODO: Implement Function\n",
    "#    x = neural_net_image_input((feature_batch.shape[1], feature_batch.shape[2], feature_batch.shape[3]))\n",
    "#    y = neural_net_label_input(label_batch.shape[1])\n",
    "#    keep_prob = neural_net_keep_prob_input()\n",
    "\n",
    "#    print(feature_batch.shape)\n",
    "#    print(label_batch.shape)\n",
    "\n",
    "    session.run(optimizer, feed_dict={x: feature_batch, y: label_batch, keep_prob: keep_probability})\n",
    "    \n",
    "    pass\n",
    "\n",
    "\n",
    "\"\"\"\n",
    "DON'T MODIFY ANYTHING IN THIS CELL THAT IS BELOW THIS LINE\n",
    "\"\"\"\n",
    "tests.test_train_nn(train_neural_network)"
   ]
  },
  {
   "cell_type": "markdown",
   "metadata": {
    "deletable": true,
    "editable": true
   },
   "source": [
    "### Show Stats\n",
    "Implement the function `print_stats` to print loss and validation accuracy.  Use the global variables `valid_features` and `valid_labels` to calculate validation accuracy.  Use a keep probability of `1.0` to calculate the loss and validation accuracy."
   ]
  },
  {
   "cell_type": "code",
   "execution_count": 14,
   "metadata": {
    "collapsed": false,
    "deletable": true,
    "editable": true
   },
   "outputs": [],
   "source": [
    "def print_stats(session, feature_batch, label_batch, cost, accuracy):\n",
    "    \"\"\"\n",
    "    Print information about loss and validation accuracy\n",
    "    : session: Current TensorFlow session\n",
    "    : feature_batch: Batch of Numpy image data\n",
    "    : label_batch: Batch of Numpy label data\n",
    "    : cost: TensorFlow cost function\n",
    "    : accuracy: TensorFlow accuracy function\n",
    "    \"\"\"\n",
    "    # TODO: Implement Function\n",
    "    loss = sess.run(cost, \n",
    "                feed_dict={\n",
    "                    x: feature_batch,\n",
    "                    y: label_batch,\n",
    "                    keep_prob: 1.0\n",
    "                })\n",
    "    valid_acc = sess.run(accuracy,\n",
    "                         feed_dict={\n",
    "                         x: valid_features,\n",
    "                         y: valid_labels,\n",
    "                         keep_prob: 1.0\n",
    "                     })\n",
    "    print('Loss: {:>10.4f} Validation Accuracy: {:.6f}'.format(loss, valid_acc))\n",
    "    \n"
   ]
  },
  {
   "cell_type": "markdown",
   "metadata": {
    "deletable": true,
    "editable": true
   },
   "source": [
    "### Hyperparameters\n",
    "Tune the following parameters:\n",
    "* Set `epochs` to the number of iterations until the network stops learning or start overfitting\n",
    "* Set `batch_size` to the highest number that your machine has memory for.  Most people set them to common sizes of memory:\n",
    " * 64\n",
    " * 128\n",
    " * 256\n",
    " * ...\n",
    "* Set `keep_probability` to the probability of keeping a node using dropout"
   ]
  },
  {
   "cell_type": "code",
   "execution_count": 17,
   "metadata": {
    "collapsed": true,
    "deletable": true,
    "editable": true
   },
   "outputs": [],
   "source": [
    "# TODO: Tune Parameters\n",
    "epochs = 80\n",
    "batch_size = 64\n",
    "keep_probability = 0.7"
   ]
  },
  {
   "cell_type": "markdown",
   "metadata": {
    "deletable": true,
    "editable": true
   },
   "source": [
    "### Train on a Single CIFAR-10 Batch\n",
    "Instead of training the neural network on all the CIFAR-10 batches of data, let's use a single batch. This should save time while you iterate on the model to get a better accuracy.  Once the final validation accuracy is 50% or greater, run the model on all the data in the next section."
   ]
  },
  {
   "cell_type": "code",
   "execution_count": 18,
   "metadata": {
    "collapsed": false,
    "deletable": true,
    "editable": true
   },
   "outputs": [
    {
     "name": "stdout",
     "output_type": "stream",
     "text": [
      "Checking the Training on a Single Batch...\n",
      "Epoch  1, CIFAR-10 Batch 1:  Loss:     2.2848 Validation Accuracy: 0.240600\n",
      "Epoch  2, CIFAR-10 Batch 1:  Loss:     2.0575 Validation Accuracy: 0.276200\n",
      "Epoch  3, CIFAR-10 Batch 1:  Loss:     1.9209 Validation Accuracy: 0.304200\n",
      "Epoch  4, CIFAR-10 Batch 1:  Loss:     1.7528 Validation Accuracy: 0.326800\n",
      "Epoch  5, CIFAR-10 Batch 1:  Loss:     1.7679 Validation Accuracy: 0.338400\n",
      "Epoch  6, CIFAR-10 Batch 1:  Loss:     1.6752 Validation Accuracy: 0.375400\n",
      "Epoch  7, CIFAR-10 Batch 1:  Loss:     1.5949 Validation Accuracy: 0.402000\n",
      "Epoch  8, CIFAR-10 Batch 1:  Loss:     1.4946 Validation Accuracy: 0.407400\n",
      "Epoch  9, CIFAR-10 Batch 1:  Loss:     1.3223 Validation Accuracy: 0.422000\n",
      "Epoch 10, CIFAR-10 Batch 1:  Loss:     1.2446 Validation Accuracy: 0.418400\n",
      "Epoch 11, CIFAR-10 Batch 1:  Loss:     1.1931 Validation Accuracy: 0.441400\n",
      "Epoch 12, CIFAR-10 Batch 1:  Loss:     1.1659 Validation Accuracy: 0.449400\n",
      "Epoch 13, CIFAR-10 Batch 1:  Loss:     1.0204 Validation Accuracy: 0.447600\n",
      "Epoch 14, CIFAR-10 Batch 1:  Loss:     0.9070 Validation Accuracy: 0.457200\n",
      "Epoch 15, CIFAR-10 Batch 1:  Loss:     0.9925 Validation Accuracy: 0.451400\n",
      "Epoch 16, CIFAR-10 Batch 1:  Loss:     0.8745 Validation Accuracy: 0.467400\n",
      "Epoch 17, CIFAR-10 Batch 1:  Loss:     0.8377 Validation Accuracy: 0.468400\n",
      "Epoch 18, CIFAR-10 Batch 1:  Loss:     0.7779 Validation Accuracy: 0.479800\n",
      "Epoch 19, CIFAR-10 Batch 1:  Loss:     0.7636 Validation Accuracy: 0.482400\n",
      "Epoch 20, CIFAR-10 Batch 1:  Loss:     0.6764 Validation Accuracy: 0.471600\n",
      "Epoch 21, CIFAR-10 Batch 1:  Loss:     0.5445 Validation Accuracy: 0.483200\n",
      "Epoch 22, CIFAR-10 Batch 1:  Loss:     0.6048 Validation Accuracy: 0.484800\n",
      "Epoch 23, CIFAR-10 Batch 1:  Loss:     0.5216 Validation Accuracy: 0.479600\n",
      "Epoch 24, CIFAR-10 Batch 1:  Loss:     0.5148 Validation Accuracy: 0.494400\n",
      "Epoch 25, CIFAR-10 Batch 1:  Loss:     0.4385 Validation Accuracy: 0.492000\n",
      "Epoch 26, CIFAR-10 Batch 1:  Loss:     0.3980 Validation Accuracy: 0.482400\n",
      "Epoch 27, CIFAR-10 Batch 1:  Loss:     0.4485 Validation Accuracy: 0.487600\n",
      "Epoch 28, CIFAR-10 Batch 1:  Loss:     0.4213 Validation Accuracy: 0.493400\n",
      "Epoch 29, CIFAR-10 Batch 1:  Loss:     0.3520 Validation Accuracy: 0.493600\n",
      "Epoch 30, CIFAR-10 Batch 1:  Loss:     0.2369 Validation Accuracy: 0.503000\n",
      "Epoch 31, CIFAR-10 Batch 1:  Loss:     0.3028 Validation Accuracy: 0.509800\n",
      "Epoch 32, CIFAR-10 Batch 1:  Loss:     0.2720 Validation Accuracy: 0.503400\n",
      "Epoch 33, CIFAR-10 Batch 1:  Loss:     0.3073 Validation Accuracy: 0.492000\n",
      "Epoch 34, CIFAR-10 Batch 1:  Loss:     0.3691 Validation Accuracy: 0.490800\n",
      "Epoch 35, CIFAR-10 Batch 1:  Loss:     0.2670 Validation Accuracy: 0.501600\n",
      "Epoch 36, CIFAR-10 Batch 1:  Loss:     0.2806 Validation Accuracy: 0.499000\n",
      "Epoch 37, CIFAR-10 Batch 1:  Loss:     0.3646 Validation Accuracy: 0.492800\n",
      "Epoch 38, CIFAR-10 Batch 1:  Loss:     0.3373 Validation Accuracy: 0.505600\n",
      "Epoch 39, CIFAR-10 Batch 1:  Loss:     0.3119 Validation Accuracy: 0.508200\n",
      "Epoch 40, CIFAR-10 Batch 1:  Loss:     0.1846 Validation Accuracy: 0.512400\n",
      "Epoch 41, CIFAR-10 Batch 1:  Loss:     0.2933 Validation Accuracy: 0.496600\n",
      "Epoch 42, CIFAR-10 Batch 1:  Loss:     0.3223 Validation Accuracy: 0.494000\n",
      "Epoch 43, CIFAR-10 Batch 1:  Loss:     0.1493 Validation Accuracy: 0.505400\n",
      "Epoch 44, CIFAR-10 Batch 1:  Loss:     0.2055 Validation Accuracy: 0.505400\n",
      "Epoch 45, CIFAR-10 Batch 1:  Loss:     0.1981 Validation Accuracy: 0.507400\n",
      "Epoch 46, CIFAR-10 Batch 1:  Loss:     0.1164 Validation Accuracy: 0.519000\n",
      "Epoch 47, CIFAR-10 Batch 1:  Loss:     0.1160 Validation Accuracy: 0.495200\n",
      "Epoch 48, CIFAR-10 Batch 1:  Loss:     0.1451 Validation Accuracy: 0.510200\n",
      "Epoch 49, CIFAR-10 Batch 1:  Loss:     0.0968 Validation Accuracy: 0.493400\n",
      "Epoch 50, CIFAR-10 Batch 1:  Loss:     0.0781 Validation Accuracy: 0.502600\n",
      "Epoch 51, CIFAR-10 Batch 1:  Loss:     0.1338 Validation Accuracy: 0.492000\n",
      "Epoch 52, CIFAR-10 Batch 1:  Loss:     0.0786 Validation Accuracy: 0.501000\n",
      "Epoch 53, CIFAR-10 Batch 1:  Loss:     0.1621 Validation Accuracy: 0.512800\n",
      "Epoch 54, CIFAR-10 Batch 1:  Loss:     0.0998 Validation Accuracy: 0.508000\n",
      "Epoch 55, CIFAR-10 Batch 1:  Loss:     0.0851 Validation Accuracy: 0.510200\n",
      "Epoch 56, CIFAR-10 Batch 1:  Loss:     0.1210 Validation Accuracy: 0.497000\n",
      "Epoch 57, CIFAR-10 Batch 1:  Loss:     0.0445 Validation Accuracy: 0.512000\n",
      "Epoch 58, CIFAR-10 Batch 1:  Loss:     0.0604 Validation Accuracy: 0.519600\n",
      "Epoch 59, CIFAR-10 Batch 1:  Loss:     0.0725 Validation Accuracy: 0.508400\n",
      "Epoch 60, CIFAR-10 Batch 1:  Loss:     0.1500 Validation Accuracy: 0.506200\n",
      "Epoch 61, CIFAR-10 Batch 1:  Loss:     0.0556 Validation Accuracy: 0.518800\n",
      "Epoch 62, CIFAR-10 Batch 1:  Loss:     0.0628 Validation Accuracy: 0.512800\n",
      "Epoch 63, CIFAR-10 Batch 1:  Loss:     0.0406 Validation Accuracy: 0.514200\n",
      "Epoch 64, CIFAR-10 Batch 1:  Loss:     0.0392 Validation Accuracy: 0.497400\n",
      "Epoch 65, CIFAR-10 Batch 1:  Loss:     0.0116 Validation Accuracy: 0.506200\n",
      "Epoch 66, CIFAR-10 Batch 1:  Loss:     0.0339 Validation Accuracy: 0.510000\n",
      "Epoch 67, CIFAR-10 Batch 1:  Loss:     0.0122 Validation Accuracy: 0.507400\n",
      "Epoch 68, CIFAR-10 Batch 1:  Loss:     0.0566 Validation Accuracy: 0.494400\n",
      "Epoch 69, CIFAR-10 Batch 1:  Loss:     0.0132 Validation Accuracy: 0.505000\n",
      "Epoch 70, CIFAR-10 Batch 1:  Loss:     0.0273 Validation Accuracy: 0.494400\n",
      "Epoch 71, CIFAR-10 Batch 1:  Loss:     0.0298 Validation Accuracy: 0.514000\n",
      "Epoch 72, CIFAR-10 Batch 1:  Loss:     0.0114 Validation Accuracy: 0.504000\n",
      "Epoch 73, CIFAR-10 Batch 1:  Loss:     0.0134 Validation Accuracy: 0.498600\n",
      "Epoch 74, CIFAR-10 Batch 1:  Loss:     0.0169 Validation Accuracy: 0.507600\n",
      "Epoch 75, CIFAR-10 Batch 1:  Loss:     0.0063 Validation Accuracy: 0.497200\n",
      "Epoch 76, CIFAR-10 Batch 1:  Loss:     0.0144 Validation Accuracy: 0.491000\n",
      "Epoch 77, CIFAR-10 Batch 1:  Loss:     0.0059 Validation Accuracy: 0.497200\n",
      "Epoch 78, CIFAR-10 Batch 1:  Loss:     0.0086 Validation Accuracy: 0.505200\n",
      "Epoch 79, CIFAR-10 Batch 1:  Loss:     0.0549 Validation Accuracy: 0.480000\n",
      "Epoch 80, CIFAR-10 Batch 1:  Loss:     0.0082 Validation Accuracy: 0.495600\n"
     ]
    }
   ],
   "source": [
    "\"\"\"\n",
    "DON'T MODIFY ANYTHING IN THIS CELL\n",
    "\"\"\"\n",
    "print('Checking the Training on a Single Batch...')\n",
    "with tf.Session() as sess:\n",
    "    # Initializing the variables\n",
    "    sess.run(tf.global_variables_initializer())\n",
    "    \n",
    "    # Training cycle\n",
    "    for epoch in range(epochs):\n",
    "        batch_i = 1\n",
    "        for batch_features, batch_labels in helper.load_preprocess_training_batch(batch_i, batch_size):\n",
    "            train_neural_network(sess, optimizer, keep_probability, batch_features, batch_labels)\n",
    "        print('Epoch {:>2}, CIFAR-10 Batch {}:  '.format(epoch + 1, batch_i), end='')\n",
    "        print_stats(sess, batch_features, batch_labels, cost, accuracy)"
   ]
  },
  {
   "cell_type": "markdown",
   "metadata": {
    "deletable": true,
    "editable": true
   },
   "source": [
    "### Fully Train the Model\n",
    "Now that you got a good accuracy with a single CIFAR-10 batch, try it with all five batches."
   ]
  },
  {
   "cell_type": "code",
   "execution_count": 19,
   "metadata": {
    "collapsed": false,
    "deletable": true,
    "editable": true
   },
   "outputs": [
    {
     "name": "stdout",
     "output_type": "stream",
     "text": [
      "Training...\n",
      "Epoch  1, CIFAR-10 Batch 1:  Loss:     2.6254 Validation Accuracy: 0.186600\n",
      "Epoch  1, CIFAR-10 Batch 2:  Loss:     2.1322 Validation Accuracy: 0.260400\n",
      "Epoch  1, CIFAR-10 Batch 3:  Loss:     1.7285 Validation Accuracy: 0.297000\n",
      "Epoch  1, CIFAR-10 Batch 4:  Loss:     1.7199 Validation Accuracy: 0.352200\n",
      "Epoch  1, CIFAR-10 Batch 5:  Loss:     1.8626 Validation Accuracy: 0.361800\n",
      "Epoch  2, CIFAR-10 Batch 1:  Loss:     1.7959 Validation Accuracy: 0.383400\n",
      "Epoch  2, CIFAR-10 Batch 2:  Loss:     1.6391 Validation Accuracy: 0.394600\n",
      "Epoch  2, CIFAR-10 Batch 3:  Loss:     1.2897 Validation Accuracy: 0.419200\n",
      "Epoch  2, CIFAR-10 Batch 4:  Loss:     1.5383 Validation Accuracy: 0.414200\n",
      "Epoch  2, CIFAR-10 Batch 5:  Loss:     1.6087 Validation Accuracy: 0.434800\n",
      "Epoch  3, CIFAR-10 Batch 1:  Loss:     1.6884 Validation Accuracy: 0.424200\n",
      "Epoch  3, CIFAR-10 Batch 2:  Loss:     1.5204 Validation Accuracy: 0.447800\n",
      "Epoch  3, CIFAR-10 Batch 3:  Loss:     1.1546 Validation Accuracy: 0.463200\n",
      "Epoch  3, CIFAR-10 Batch 4:  Loss:     1.4292 Validation Accuracy: 0.477000\n",
      "Epoch  3, CIFAR-10 Batch 5:  Loss:     1.5414 Validation Accuracy: 0.475600\n",
      "Epoch  4, CIFAR-10 Batch 1:  Loss:     1.5204 Validation Accuracy: 0.472600\n",
      "Epoch  4, CIFAR-10 Batch 2:  Loss:     1.3498 Validation Accuracy: 0.483000\n",
      "Epoch  4, CIFAR-10 Batch 3:  Loss:     1.1316 Validation Accuracy: 0.486000\n",
      "Epoch  4, CIFAR-10 Batch 4:  Loss:     1.2774 Validation Accuracy: 0.504600\n",
      "Epoch  4, CIFAR-10 Batch 5:  Loss:     1.4982 Validation Accuracy: 0.508000\n",
      "Epoch  5, CIFAR-10 Batch 1:  Loss:     1.4018 Validation Accuracy: 0.472800\n",
      "Epoch  5, CIFAR-10 Batch 2:  Loss:     1.2625 Validation Accuracy: 0.500400\n",
      "Epoch  5, CIFAR-10 Batch 3:  Loss:     1.0400 Validation Accuracy: 0.530200\n",
      "Epoch  5, CIFAR-10 Batch 4:  Loss:     1.2412 Validation Accuracy: 0.518600\n",
      "Epoch  5, CIFAR-10 Batch 5:  Loss:     1.3345 Validation Accuracy: 0.524600\n",
      "Epoch  6, CIFAR-10 Batch 1:  Loss:     1.3142 Validation Accuracy: 0.535200\n",
      "Epoch  6, CIFAR-10 Batch 2:  Loss:     1.1026 Validation Accuracy: 0.515400\n",
      "Epoch  6, CIFAR-10 Batch 3:  Loss:     0.9928 Validation Accuracy: 0.538400\n",
      "Epoch  6, CIFAR-10 Batch 4:  Loss:     0.9767 Validation Accuracy: 0.541000\n",
      "Epoch  6, CIFAR-10 Batch 5:  Loss:     1.2451 Validation Accuracy: 0.547600\n",
      "Epoch  7, CIFAR-10 Batch 1:  Loss:     1.2796 Validation Accuracy: 0.558600\n",
      "Epoch  7, CIFAR-10 Batch 2:  Loss:     1.0574 Validation Accuracy: 0.563600\n",
      "Epoch  7, CIFAR-10 Batch 3:  Loss:     0.8927 Validation Accuracy: 0.541200\n",
      "Epoch  7, CIFAR-10 Batch 4:  Loss:     1.0072 Validation Accuracy: 0.568400\n",
      "Epoch  7, CIFAR-10 Batch 5:  Loss:     1.1465 Validation Accuracy: 0.563600\n",
      "Epoch  8, CIFAR-10 Batch 1:  Loss:     1.0817 Validation Accuracy: 0.577600\n",
      "Epoch  8, CIFAR-10 Batch 2:  Loss:     0.9578 Validation Accuracy: 0.556200\n",
      "Epoch  8, CIFAR-10 Batch 3:  Loss:     0.7203 Validation Accuracy: 0.568400\n",
      "Epoch  8, CIFAR-10 Batch 4:  Loss:     0.9237 Validation Accuracy: 0.579400\n",
      "Epoch  8, CIFAR-10 Batch 5:  Loss:     1.1035 Validation Accuracy: 0.572800\n",
      "Epoch  9, CIFAR-10 Batch 1:  Loss:     0.9962 Validation Accuracy: 0.583400\n",
      "Epoch  9, CIFAR-10 Batch 2:  Loss:     0.8077 Validation Accuracy: 0.574400\n",
      "Epoch  9, CIFAR-10 Batch 3:  Loss:     0.7877 Validation Accuracy: 0.573600\n",
      "Epoch  9, CIFAR-10 Batch 4:  Loss:     0.8528 Validation Accuracy: 0.589200\n",
      "Epoch  9, CIFAR-10 Batch 5:  Loss:     1.0122 Validation Accuracy: 0.581800\n",
      "Epoch 10, CIFAR-10 Batch 1:  Loss:     0.8583 Validation Accuracy: 0.574600\n",
      "Epoch 10, CIFAR-10 Batch 2:  Loss:     0.7982 Validation Accuracy: 0.569800\n",
      "Epoch 10, CIFAR-10 Batch 3:  Loss:     0.7968 Validation Accuracy: 0.592200\n",
      "Epoch 10, CIFAR-10 Batch 4:  Loss:     0.8357 Validation Accuracy: 0.583400\n",
      "Epoch 10, CIFAR-10 Batch 5:  Loss:     0.9300 Validation Accuracy: 0.601800\n",
      "Epoch 11, CIFAR-10 Batch 1:  Loss:     0.7735 Validation Accuracy: 0.596000\n",
      "Epoch 11, CIFAR-10 Batch 2:  Loss:     0.7708 Validation Accuracy: 0.579400\n",
      "Epoch 11, CIFAR-10 Batch 3:  Loss:     0.6421 Validation Accuracy: 0.599400\n",
      "Epoch 11, CIFAR-10 Batch 4:  Loss:     0.7134 Validation Accuracy: 0.600400\n",
      "Epoch 11, CIFAR-10 Batch 5:  Loss:     0.8678 Validation Accuracy: 0.616400\n",
      "Epoch 12, CIFAR-10 Batch 1:  Loss:     0.7837 Validation Accuracy: 0.611000\n",
      "Epoch 12, CIFAR-10 Batch 2:  Loss:     0.8199 Validation Accuracy: 0.599200\n",
      "Epoch 12, CIFAR-10 Batch 3:  Loss:     0.5561 Validation Accuracy: 0.611000\n",
      "Epoch 12, CIFAR-10 Batch 4:  Loss:     0.6722 Validation Accuracy: 0.596400\n",
      "Epoch 12, CIFAR-10 Batch 5:  Loss:     0.7359 Validation Accuracy: 0.623800\n",
      "Epoch 13, CIFAR-10 Batch 1:  Loss:     0.9274 Validation Accuracy: 0.619000\n",
      "Epoch 13, CIFAR-10 Batch 2:  Loss:     0.7607 Validation Accuracy: 0.597800\n",
      "Epoch 13, CIFAR-10 Batch 3:  Loss:     0.5676 Validation Accuracy: 0.615000\n",
      "Epoch 13, CIFAR-10 Batch 4:  Loss:     0.6908 Validation Accuracy: 0.617000\n",
      "Epoch 13, CIFAR-10 Batch 5:  Loss:     0.7126 Validation Accuracy: 0.623400\n",
      "Epoch 14, CIFAR-10 Batch 1:  Loss:     0.6297 Validation Accuracy: 0.618800\n",
      "Epoch 14, CIFAR-10 Batch 2:  Loss:     0.7673 Validation Accuracy: 0.580200\n",
      "Epoch 14, CIFAR-10 Batch 3:  Loss:     0.5778 Validation Accuracy: 0.602000\n",
      "Epoch 14, CIFAR-10 Batch 4:  Loss:     0.6528 Validation Accuracy: 0.632000\n",
      "Epoch 14, CIFAR-10 Batch 5:  Loss:     0.6047 Validation Accuracy: 0.630800\n",
      "Epoch 15, CIFAR-10 Batch 1:  Loss:     0.6418 Validation Accuracy: 0.639200\n",
      "Epoch 15, CIFAR-10 Batch 2:  Loss:     0.5566 Validation Accuracy: 0.602200\n",
      "Epoch 15, CIFAR-10 Batch 3:  Loss:     0.4636 Validation Accuracy: 0.614200\n",
      "Epoch 15, CIFAR-10 Batch 4:  Loss:     0.5389 Validation Accuracy: 0.626000\n",
      "Epoch 15, CIFAR-10 Batch 5:  Loss:     0.5801 Validation Accuracy: 0.632800\n",
      "Epoch 16, CIFAR-10 Batch 1:  Loss:     0.7113 Validation Accuracy: 0.624400\n",
      "Epoch 16, CIFAR-10 Batch 2:  Loss:     0.5534 Validation Accuracy: 0.625400\n",
      "Epoch 16, CIFAR-10 Batch 3:  Loss:     0.4954 Validation Accuracy: 0.624000\n",
      "Epoch 16, CIFAR-10 Batch 4:  Loss:     0.5661 Validation Accuracy: 0.628000\n",
      "Epoch 16, CIFAR-10 Batch 5:  Loss:     0.4997 Validation Accuracy: 0.636200\n",
      "Epoch 17, CIFAR-10 Batch 1:  Loss:     0.7419 Validation Accuracy: 0.638200\n",
      "Epoch 17, CIFAR-10 Batch 2:  Loss:     0.5126 Validation Accuracy: 0.636200\n",
      "Epoch 17, CIFAR-10 Batch 3:  Loss:     0.3303 Validation Accuracy: 0.627400\n",
      "Epoch 17, CIFAR-10 Batch 4:  Loss:     0.4311 Validation Accuracy: 0.633600\n",
      "Epoch 17, CIFAR-10 Batch 5:  Loss:     0.5728 Validation Accuracy: 0.632000\n",
      "Epoch 18, CIFAR-10 Batch 1:  Loss:     0.5905 Validation Accuracy: 0.638000\n",
      "Epoch 18, CIFAR-10 Batch 2:  Loss:     0.5455 Validation Accuracy: 0.631400\n",
      "Epoch 18, CIFAR-10 Batch 3:  Loss:     0.3494 Validation Accuracy: 0.626000\n",
      "Epoch 18, CIFAR-10 Batch 4:  Loss:     0.3351 Validation Accuracy: 0.638000\n",
      "Epoch 18, CIFAR-10 Batch 5:  Loss:     0.4216 Validation Accuracy: 0.635800\n",
      "Epoch 19, CIFAR-10 Batch 1:  Loss:     0.5288 Validation Accuracy: 0.643800\n",
      "Epoch 19, CIFAR-10 Batch 2:  Loss:     0.4643 Validation Accuracy: 0.629600\n",
      "Epoch 19, CIFAR-10 Batch 3:  Loss:     0.2413 Validation Accuracy: 0.644200\n",
      "Epoch 19, CIFAR-10 Batch 4:  Loss:     0.2688 Validation Accuracy: 0.630000\n",
      "Epoch 19, CIFAR-10 Batch 5:  Loss:     0.3997 Validation Accuracy: 0.645000\n",
      "Epoch 20, CIFAR-10 Batch 1:  Loss:     0.4346 Validation Accuracy: 0.637600\n",
      "Epoch 20, CIFAR-10 Batch 2:  Loss:     0.4098 Validation Accuracy: 0.622800\n",
      "Epoch 20, CIFAR-10 Batch 3:  Loss:     0.1972 Validation Accuracy: 0.650000\n",
      "Epoch 20, CIFAR-10 Batch 4:  Loss:     0.3168 Validation Accuracy: 0.638000\n",
      "Epoch 20, CIFAR-10 Batch 5:  Loss:     0.3113 Validation Accuracy: 0.639800\n",
      "Epoch 21, CIFAR-10 Batch 1:  Loss:     0.4303 Validation Accuracy: 0.634200\n",
      "Epoch 21, CIFAR-10 Batch 2:  Loss:     0.3197 Validation Accuracy: 0.625400\n",
      "Epoch 21, CIFAR-10 Batch 3:  Loss:     0.2113 Validation Accuracy: 0.635800\n",
      "Epoch 21, CIFAR-10 Batch 4:  Loss:     0.2517 Validation Accuracy: 0.631200\n",
      "Epoch 21, CIFAR-10 Batch 5:  Loss:     0.3659 Validation Accuracy: 0.632200\n",
      "Epoch 22, CIFAR-10 Batch 1:  Loss:     0.4615 Validation Accuracy: 0.631000\n",
      "Epoch 22, CIFAR-10 Batch 2:  Loss:     0.3386 Validation Accuracy: 0.623000\n",
      "Epoch 22, CIFAR-10 Batch 3:  Loss:     0.1997 Validation Accuracy: 0.642800\n",
      "Epoch 22, CIFAR-10 Batch 4:  Loss:     0.2249 Validation Accuracy: 0.632000\n",
      "Epoch 22, CIFAR-10 Batch 5:  Loss:     0.3508 Validation Accuracy: 0.642200\n",
      "Epoch 23, CIFAR-10 Batch 1:  Loss:     0.3573 Validation Accuracy: 0.638800\n",
      "Epoch 23, CIFAR-10 Batch 2:  Loss:     0.2607 Validation Accuracy: 0.620600\n",
      "Epoch 23, CIFAR-10 Batch 3:  Loss:     0.1139 Validation Accuracy: 0.658600\n",
      "Epoch 23, CIFAR-10 Batch 4:  Loss:     0.2250 Validation Accuracy: 0.632800\n",
      "Epoch 23, CIFAR-10 Batch 5:  Loss:     0.2072 Validation Accuracy: 0.641200\n",
      "Epoch 24, CIFAR-10 Batch 1:  Loss:     0.2729 Validation Accuracy: 0.614200\n",
      "Epoch 24, CIFAR-10 Batch 2:  Loss:     0.2568 Validation Accuracy: 0.637200\n",
      "Epoch 24, CIFAR-10 Batch 3:  Loss:     0.1539 Validation Accuracy: 0.643000\n",
      "Epoch 24, CIFAR-10 Batch 4:  Loss:     0.2332 Validation Accuracy: 0.644800\n",
      "Epoch 24, CIFAR-10 Batch 5:  Loss:     0.1597 Validation Accuracy: 0.639800\n",
      "Epoch 25, CIFAR-10 Batch 1:  Loss:     0.4180 Validation Accuracy: 0.643000\n",
      "Epoch 25, CIFAR-10 Batch 2:  Loss:     0.2457 Validation Accuracy: 0.646600\n",
      "Epoch 25, CIFAR-10 Batch 3:  Loss:     0.1321 Validation Accuracy: 0.646000\n",
      "Epoch 25, CIFAR-10 Batch 4:  Loss:     0.1663 Validation Accuracy: 0.640600\n",
      "Epoch 25, CIFAR-10 Batch 5:  Loss:     0.2299 Validation Accuracy: 0.638600\n",
      "Epoch 26, CIFAR-10 Batch 1:  Loss:     0.4293 Validation Accuracy: 0.632200\n",
      "Epoch 26, CIFAR-10 Batch 2:  Loss:     0.2398 Validation Accuracy: 0.637200\n",
      "Epoch 26, CIFAR-10 Batch 3:  Loss:     0.1368 Validation Accuracy: 0.644400\n",
      "Epoch 26, CIFAR-10 Batch 4:  Loss:     0.1261 Validation Accuracy: 0.640000\n",
      "Epoch 26, CIFAR-10 Batch 5:  Loss:     0.2788 Validation Accuracy: 0.627400\n",
      "Epoch 27, CIFAR-10 Batch 1:  Loss:     0.2908 Validation Accuracy: 0.647600\n",
      "Epoch 27, CIFAR-10 Batch 2:  Loss:     0.1973 Validation Accuracy: 0.646600\n",
      "Epoch 27, CIFAR-10 Batch 3:  Loss:     0.0583 Validation Accuracy: 0.643400\n",
      "Epoch 27, CIFAR-10 Batch 4:  Loss:     0.1259 Validation Accuracy: 0.626800\n",
      "Epoch 27, CIFAR-10 Batch 5:  Loss:     0.1391 Validation Accuracy: 0.627000\n",
      "Epoch 28, CIFAR-10 Batch 1:  Loss:     0.3461 Validation Accuracy: 0.643000\n",
      "Epoch 28, CIFAR-10 Batch 2:  Loss:     0.1839 Validation Accuracy: 0.641400\n",
      "Epoch 28, CIFAR-10 Batch 3:  Loss:     0.0767 Validation Accuracy: 0.660400\n",
      "Epoch 28, CIFAR-10 Batch 4:  Loss:     0.0846 Validation Accuracy: 0.634600\n",
      "Epoch 28, CIFAR-10 Batch 5:  Loss:     0.2282 Validation Accuracy: 0.639800\n",
      "Epoch 29, CIFAR-10 Batch 1:  Loss:     0.2970 Validation Accuracy: 0.644600\n",
      "Epoch 29, CIFAR-10 Batch 2:  Loss:     0.1619 Validation Accuracy: 0.657200\n",
      "Epoch 29, CIFAR-10 Batch 3:  Loss:     0.1456 Validation Accuracy: 0.660600\n",
      "Epoch 29, CIFAR-10 Batch 4:  Loss:     0.1155 Validation Accuracy: 0.636600\n",
      "Epoch 29, CIFAR-10 Batch 5:  Loss:     0.2439 Validation Accuracy: 0.638200\n",
      "Epoch 30, CIFAR-10 Batch 1:  Loss:     0.2640 Validation Accuracy: 0.651800\n",
      "Epoch 30, CIFAR-10 Batch 2:  Loss:     0.1748 Validation Accuracy: 0.632400\n",
      "Epoch 30, CIFAR-10 Batch 3:  Loss:     0.1336 Validation Accuracy: 0.645800\n",
      "Epoch 30, CIFAR-10 Batch 4:  Loss:     0.0651 Validation Accuracy: 0.641600\n",
      "Epoch 30, CIFAR-10 Batch 5:  Loss:     0.0847 Validation Accuracy: 0.638200\n",
      "Epoch 31, CIFAR-10 Batch 1:  Loss:     0.2240 Validation Accuracy: 0.656000\n",
      "Epoch 31, CIFAR-10 Batch 2:  Loss:     0.1878 Validation Accuracy: 0.654200\n",
      "Epoch 31, CIFAR-10 Batch 3:  Loss:     0.1043 Validation Accuracy: 0.650400\n",
      "Epoch 31, CIFAR-10 Batch 4:  Loss:     0.0577 Validation Accuracy: 0.645800\n",
      "Epoch 31, CIFAR-10 Batch 5:  Loss:     0.1459 Validation Accuracy: 0.624000\n",
      "Epoch 32, CIFAR-10 Batch 1:  Loss:     0.2017 Validation Accuracy: 0.654600\n",
      "Epoch 32, CIFAR-10 Batch 2:  Loss:     0.1590 Validation Accuracy: 0.646000\n",
      "Epoch 32, CIFAR-10 Batch 3:  Loss:     0.0634 Validation Accuracy: 0.650400\n",
      "Epoch 32, CIFAR-10 Batch 4:  Loss:     0.0528 Validation Accuracy: 0.649000\n",
      "Epoch 32, CIFAR-10 Batch 5:  Loss:     0.0980 Validation Accuracy: 0.639000\n",
      "Epoch 33, CIFAR-10 Batch 1:  Loss:     0.1760 Validation Accuracy: 0.644200\n",
      "Epoch 33, CIFAR-10 Batch 2:  Loss:     0.1729 Validation Accuracy: 0.638000\n",
      "Epoch 33, CIFAR-10 Batch 3:  Loss:     0.0333 Validation Accuracy: 0.649200\n",
      "Epoch 33, CIFAR-10 Batch 4:  Loss:     0.0665 Validation Accuracy: 0.648200\n",
      "Epoch 33, CIFAR-10 Batch 5:  Loss:     0.0968 Validation Accuracy: 0.619200\n",
      "Epoch 34, CIFAR-10 Batch 1:  Loss:     0.2111 Validation Accuracy: 0.642400\n",
      "Epoch 34, CIFAR-10 Batch 2:  Loss:     0.1316 Validation Accuracy: 0.657800\n",
      "Epoch 34, CIFAR-10 Batch 3:  Loss:     0.0361 Validation Accuracy: 0.660000\n",
      "Epoch 34, CIFAR-10 Batch 4:  Loss:     0.0276 Validation Accuracy: 0.652000\n",
      "Epoch 34, CIFAR-10 Batch 5:  Loss:     0.0755 Validation Accuracy: 0.630200\n",
      "Epoch 35, CIFAR-10 Batch 1:  Loss:     0.1767 Validation Accuracy: 0.657200\n",
      "Epoch 35, CIFAR-10 Batch 2:  Loss:     0.1580 Validation Accuracy: 0.646000\n",
      "Epoch 35, CIFAR-10 Batch 3:  Loss:     0.0565 Validation Accuracy: 0.636400\n",
      "Epoch 35, CIFAR-10 Batch 4:  Loss:     0.0338 Validation Accuracy: 0.657000\n",
      "Epoch 35, CIFAR-10 Batch 5:  Loss:     0.1428 Validation Accuracy: 0.625000\n",
      "Epoch 36, CIFAR-10 Batch 1:  Loss:     0.1557 Validation Accuracy: 0.644200\n",
      "Epoch 36, CIFAR-10 Batch 2:  Loss:     0.0996 Validation Accuracy: 0.650800\n",
      "Epoch 36, CIFAR-10 Batch 3:  Loss:     0.0215 Validation Accuracy: 0.642600\n",
      "Epoch 36, CIFAR-10 Batch 4:  Loss:     0.0229 Validation Accuracy: 0.652400\n",
      "Epoch 36, CIFAR-10 Batch 5:  Loss:     0.1162 Validation Accuracy: 0.640800\n",
      "Epoch 37, CIFAR-10 Batch 1:  Loss:     0.1846 Validation Accuracy: 0.640800\n",
      "Epoch 37, CIFAR-10 Batch 2:  Loss:     0.0782 Validation Accuracy: 0.635800\n",
      "Epoch 37, CIFAR-10 Batch 3:  Loss:     0.0624 Validation Accuracy: 0.628200\n",
      "Epoch 37, CIFAR-10 Batch 4:  Loss:     0.0647 Validation Accuracy: 0.631400\n",
      "Epoch 37, CIFAR-10 Batch 5:  Loss:     0.1151 Validation Accuracy: 0.635000\n",
      "Epoch 38, CIFAR-10 Batch 1:  Loss:     0.1338 Validation Accuracy: 0.640400\n",
      "Epoch 38, CIFAR-10 Batch 2:  Loss:     0.0610 Validation Accuracy: 0.657000\n",
      "Epoch 38, CIFAR-10 Batch 3:  Loss:     0.0696 Validation Accuracy: 0.643800\n",
      "Epoch 38, CIFAR-10 Batch 4:  Loss:     0.0402 Validation Accuracy: 0.653200\n",
      "Epoch 38, CIFAR-10 Batch 5:  Loss:     0.0972 Validation Accuracy: 0.620200\n",
      "Epoch 39, CIFAR-10 Batch 1:  Loss:     0.1256 Validation Accuracy: 0.647200\n",
      "Epoch 39, CIFAR-10 Batch 2:  Loss:     0.1174 Validation Accuracy: 0.652000\n",
      "Epoch 39, CIFAR-10 Batch 3:  Loss:     0.0100 Validation Accuracy: 0.650400\n",
      "Epoch 39, CIFAR-10 Batch 4:  Loss:     0.1482 Validation Accuracy: 0.636000\n",
      "Epoch 39, CIFAR-10 Batch 5:  Loss:     0.0479 Validation Accuracy: 0.640800\n",
      "Epoch 40, CIFAR-10 Batch 1:  Loss:     0.1249 Validation Accuracy: 0.657800\n",
      "Epoch 40, CIFAR-10 Batch 2:  Loss:     0.1132 Validation Accuracy: 0.655000\n",
      "Epoch 40, CIFAR-10 Batch 3:  Loss:     0.0516 Validation Accuracy: 0.638600\n",
      "Epoch 40, CIFAR-10 Batch 4:  Loss:     0.0664 Validation Accuracy: 0.635600\n",
      "Epoch 40, CIFAR-10 Batch 5:  Loss:     0.0782 Validation Accuracy: 0.642200\n",
      "Epoch 41, CIFAR-10 Batch 1:  Loss:     0.1302 Validation Accuracy: 0.657200\n",
      "Epoch 41, CIFAR-10 Batch 2:  Loss:     0.0565 Validation Accuracy: 0.642800\n",
      "Epoch 41, CIFAR-10 Batch 3:  Loss:     0.0139 Validation Accuracy: 0.646800\n",
      "Epoch 41, CIFAR-10 Batch 4:  Loss:     0.0864 Validation Accuracy: 0.630200\n",
      "Epoch 41, CIFAR-10 Batch 5:  Loss:     0.0871 Validation Accuracy: 0.640000\n",
      "Epoch 42, CIFAR-10 Batch 1:  Loss:     0.1121 Validation Accuracy: 0.649200\n",
      "Epoch 42, CIFAR-10 Batch 2:  Loss:     0.0896 Validation Accuracy: 0.654000\n",
      "Epoch 42, CIFAR-10 Batch 3:  Loss:     0.0528 Validation Accuracy: 0.652600\n",
      "Epoch 42, CIFAR-10 Batch 4:  Loss:     0.0844 Validation Accuracy: 0.626200\n",
      "Epoch 42, CIFAR-10 Batch 5:  Loss:     0.0898 Validation Accuracy: 0.638800\n",
      "Epoch 43, CIFAR-10 Batch 1:  Loss:     0.1721 Validation Accuracy: 0.653600\n",
      "Epoch 43, CIFAR-10 Batch 2:  Loss:     0.0715 Validation Accuracy: 0.648600\n",
      "Epoch 43, CIFAR-10 Batch 3:  Loss:     0.0180 Validation Accuracy: 0.652400\n",
      "Epoch 43, CIFAR-10 Batch 4:  Loss:     0.0294 Validation Accuracy: 0.635400\n",
      "Epoch 43, CIFAR-10 Batch 5:  Loss:     0.0506 Validation Accuracy: 0.652800\n",
      "Epoch 44, CIFAR-10 Batch 1:  Loss:     0.1389 Validation Accuracy: 0.646600\n",
      "Epoch 44, CIFAR-10 Batch 2:  Loss:     0.0524 Validation Accuracy: 0.649000\n",
      "Epoch 44, CIFAR-10 Batch 3:  Loss:     0.0437 Validation Accuracy: 0.653200\n",
      "Epoch 44, CIFAR-10 Batch 4:  Loss:     0.0397 Validation Accuracy: 0.642000\n",
      "Epoch 44, CIFAR-10 Batch 5:  Loss:     0.0284 Validation Accuracy: 0.643000\n",
      "Epoch 45, CIFAR-10 Batch 1:  Loss:     0.0553 Validation Accuracy: 0.646800\n",
      "Epoch 45, CIFAR-10 Batch 2:  Loss:     0.0342 Validation Accuracy: 0.660400\n",
      "Epoch 45, CIFAR-10 Batch 3:  Loss:     0.0172 Validation Accuracy: 0.645600\n",
      "Epoch 45, CIFAR-10 Batch 4:  Loss:     0.0428 Validation Accuracy: 0.641800\n",
      "Epoch 45, CIFAR-10 Batch 5:  Loss:     0.0323 Validation Accuracy: 0.648800\n",
      "Epoch 46, CIFAR-10 Batch 1:  Loss:     0.0753 Validation Accuracy: 0.645200\n",
      "Epoch 46, CIFAR-10 Batch 2:  Loss:     0.0560 Validation Accuracy: 0.654200\n",
      "Epoch 46, CIFAR-10 Batch 3:  Loss:     0.0184 Validation Accuracy: 0.650400\n",
      "Epoch 46, CIFAR-10 Batch 4:  Loss:     0.0255 Validation Accuracy: 0.647800\n",
      "Epoch 46, CIFAR-10 Batch 5:  Loss:     0.0530 Validation Accuracy: 0.637200\n",
      "Epoch 47, CIFAR-10 Batch 1:  Loss:     0.0572 Validation Accuracy: 0.636400\n",
      "Epoch 47, CIFAR-10 Batch 2:  Loss:     0.0719 Validation Accuracy: 0.651400\n",
      "Epoch 47, CIFAR-10 Batch 3:  Loss:     0.0294 Validation Accuracy: 0.648800\n",
      "Epoch 47, CIFAR-10 Batch 4:  Loss:     0.0678 Validation Accuracy: 0.639000\n",
      "Epoch 47, CIFAR-10 Batch 5:  Loss:     0.0152 Validation Accuracy: 0.636800\n",
      "Epoch 48, CIFAR-10 Batch 1:  Loss:     0.0836 Validation Accuracy: 0.642800\n",
      "Epoch 48, CIFAR-10 Batch 2:  Loss:     0.1223 Validation Accuracy: 0.647800\n",
      "Epoch 48, CIFAR-10 Batch 3:  Loss:     0.0140 Validation Accuracy: 0.665000\n",
      "Epoch 48, CIFAR-10 Batch 4:  Loss:     0.1066 Validation Accuracy: 0.642000\n",
      "Epoch 48, CIFAR-10 Batch 5:  Loss:     0.0261 Validation Accuracy: 0.652000\n",
      "Epoch 49, CIFAR-10 Batch 1:  Loss:     0.0357 Validation Accuracy: 0.641400\n",
      "Epoch 49, CIFAR-10 Batch 2:  Loss:     0.0412 Validation Accuracy: 0.646000\n",
      "Epoch 49, CIFAR-10 Batch 3:  Loss:     0.0230 Validation Accuracy: 0.649800\n",
      "Epoch 49, CIFAR-10 Batch 4:  Loss:     0.0107 Validation Accuracy: 0.644200\n",
      "Epoch 49, CIFAR-10 Batch 5:  Loss:     0.0620 Validation Accuracy: 0.647000\n",
      "Epoch 50, CIFAR-10 Batch 1:  Loss:     0.0891 Validation Accuracy: 0.639800\n",
      "Epoch 50, CIFAR-10 Batch 2:  Loss:     0.0417 Validation Accuracy: 0.647800\n",
      "Epoch 50, CIFAR-10 Batch 3:  Loss:     0.0326 Validation Accuracy: 0.655600\n",
      "Epoch 50, CIFAR-10 Batch 4:  Loss:     0.0683 Validation Accuracy: 0.645600\n",
      "Epoch 50, CIFAR-10 Batch 5:  Loss:     0.0796 Validation Accuracy: 0.631000\n",
      "Epoch 51, CIFAR-10 Batch 1:  Loss:     0.0710 Validation Accuracy: 0.632000\n",
      "Epoch 51, CIFAR-10 Batch 2:  Loss:     0.0970 Validation Accuracy: 0.651800\n",
      "Epoch 51, CIFAR-10 Batch 3:  Loss:     0.0048 Validation Accuracy: 0.657600\n",
      "Epoch 51, CIFAR-10 Batch 4:  Loss:     0.0744 Validation Accuracy: 0.641400\n",
      "Epoch 51, CIFAR-10 Batch 5:  Loss:     0.0280 Validation Accuracy: 0.656600\n",
      "Epoch 52, CIFAR-10 Batch 1:  Loss:     0.0426 Validation Accuracy: 0.642000\n",
      "Epoch 52, CIFAR-10 Batch 2:  Loss:     0.0449 Validation Accuracy: 0.662400\n",
      "Epoch 52, CIFAR-10 Batch 3:  Loss:     0.0201 Validation Accuracy: 0.662400\n",
      "Epoch 52, CIFAR-10 Batch 4:  Loss:     0.0153 Validation Accuracy: 0.664000\n",
      "Epoch 52, CIFAR-10 Batch 5:  Loss:     0.0597 Validation Accuracy: 0.637600\n",
      "Epoch 53, CIFAR-10 Batch 1:  Loss:     0.0847 Validation Accuracy: 0.643000\n",
      "Epoch 53, CIFAR-10 Batch 2:  Loss:     0.0063 Validation Accuracy: 0.647200\n",
      "Epoch 53, CIFAR-10 Batch 3:  Loss:     0.0038 Validation Accuracy: 0.660600\n",
      "Epoch 53, CIFAR-10 Batch 4:  Loss:     0.0091 Validation Accuracy: 0.647000\n",
      "Epoch 53, CIFAR-10 Batch 5:  Loss:     0.0174 Validation Accuracy: 0.655800\n",
      "Epoch 54, CIFAR-10 Batch 1:  Loss:     0.0569 Validation Accuracy: 0.644400\n",
      "Epoch 54, CIFAR-10 Batch 2:  Loss:     0.0170 Validation Accuracy: 0.666000\n",
      "Epoch 54, CIFAR-10 Batch 3:  Loss:     0.0055 Validation Accuracy: 0.645400\n",
      "Epoch 54, CIFAR-10 Batch 4:  Loss:     0.0127 Validation Accuracy: 0.657400\n",
      "Epoch 54, CIFAR-10 Batch 5:  Loss:     0.0187 Validation Accuracy: 0.647800\n",
      "Epoch 55, CIFAR-10 Batch 1:  Loss:     0.0694 Validation Accuracy: 0.645400\n",
      "Epoch 55, CIFAR-10 Batch 2:  Loss:     0.0259 Validation Accuracy: 0.650600\n",
      "Epoch 55, CIFAR-10 Batch 3:  Loss:     0.0019 Validation Accuracy: 0.642400\n",
      "Epoch 55, CIFAR-10 Batch 4:  Loss:     0.0292 Validation Accuracy: 0.656200\n",
      "Epoch 55, CIFAR-10 Batch 5:  Loss:     0.0195 Validation Accuracy: 0.647800\n",
      "Epoch 56, CIFAR-10 Batch 1:  Loss:     0.0363 Validation Accuracy: 0.641600\n",
      "Epoch 56, CIFAR-10 Batch 2:  Loss:     0.0555 Validation Accuracy: 0.639800\n",
      "Epoch 56, CIFAR-10 Batch 3:  Loss:     0.0246 Validation Accuracy: 0.645200\n",
      "Epoch 56, CIFAR-10 Batch 4:  Loss:     0.0561 Validation Accuracy: 0.649800\n",
      "Epoch 56, CIFAR-10 Batch 5:  Loss:     0.0208 Validation Accuracy: 0.649800\n",
      "Epoch 57, CIFAR-10 Batch 1:  Loss:     0.0240 Validation Accuracy: 0.643600\n",
      "Epoch 57, CIFAR-10 Batch 2:  Loss:     0.1060 Validation Accuracy: 0.648000\n",
      "Epoch 57, CIFAR-10 Batch 3:  Loss:     0.0845 Validation Accuracy: 0.659800\n",
      "Epoch 57, CIFAR-10 Batch 4:  Loss:     0.0560 Validation Accuracy: 0.652600\n",
      "Epoch 57, CIFAR-10 Batch 5:  Loss:     0.0185 Validation Accuracy: 0.646800\n",
      "Epoch 58, CIFAR-10 Batch 1:  Loss:     0.0564 Validation Accuracy: 0.653000\n",
      "Epoch 58, CIFAR-10 Batch 2:  Loss:     0.0235 Validation Accuracy: 0.651200\n",
      "Epoch 58, CIFAR-10 Batch 3:  Loss:     0.0105 Validation Accuracy: 0.633400\n",
      "Epoch 58, CIFAR-10 Batch 4:  Loss:     0.0184 Validation Accuracy: 0.665800\n",
      "Epoch 58, CIFAR-10 Batch 5:  Loss:     0.0038 Validation Accuracy: 0.651000\n",
      "Epoch 59, CIFAR-10 Batch 1:  Loss:     0.0581 Validation Accuracy: 0.656400\n",
      "Epoch 59, CIFAR-10 Batch 2:  Loss:     0.1544 Validation Accuracy: 0.656600\n",
      "Epoch 59, CIFAR-10 Batch 3:  Loss:     0.0119 Validation Accuracy: 0.648600\n",
      "Epoch 59, CIFAR-10 Batch 4:  Loss:     0.0108 Validation Accuracy: 0.659000\n",
      "Epoch 59, CIFAR-10 Batch 5:  Loss:     0.0829 Validation Accuracy: 0.651600\n",
      "Epoch 60, CIFAR-10 Batch 1:  Loss:     0.0445 Validation Accuracy: 0.656400\n",
      "Epoch 60, CIFAR-10 Batch 2:  Loss:     0.0276 Validation Accuracy: 0.658800\n",
      "Epoch 60, CIFAR-10 Batch 3:  Loss:     0.0009 Validation Accuracy: 0.649600\n",
      "Epoch 60, CIFAR-10 Batch 4:  Loss:     0.0043 Validation Accuracy: 0.648600\n",
      "Epoch 60, CIFAR-10 Batch 5:  Loss:     0.0237 Validation Accuracy: 0.649400\n",
      "Epoch 61, CIFAR-10 Batch 1:  Loss:     0.0687 Validation Accuracy: 0.634800\n",
      "Epoch 61, CIFAR-10 Batch 2:  Loss:     0.0631 Validation Accuracy: 0.649800\n",
      "Epoch 61, CIFAR-10 Batch 3:  Loss:     0.0768 Validation Accuracy: 0.643400\n",
      "Epoch 61, CIFAR-10 Batch 4:  Loss:     0.0171 Validation Accuracy: 0.658400\n",
      "Epoch 61, CIFAR-10 Batch 5:  Loss:     0.0210 Validation Accuracy: 0.652200\n",
      "Epoch 62, CIFAR-10 Batch 1:  Loss:     0.0407 Validation Accuracy: 0.650000\n",
      "Epoch 62, CIFAR-10 Batch 2:  Loss:     0.0137 Validation Accuracy: 0.656600\n",
      "Epoch 62, CIFAR-10 Batch 3:  Loss:     0.0017 Validation Accuracy: 0.649400\n",
      "Epoch 62, CIFAR-10 Batch 4:  Loss:     0.0042 Validation Accuracy: 0.656800\n",
      "Epoch 62, CIFAR-10 Batch 5:  Loss:     0.0203 Validation Accuracy: 0.647200\n",
      "Epoch 63, CIFAR-10 Batch 1:  Loss:     0.0268 Validation Accuracy: 0.644800\n",
      "Epoch 63, CIFAR-10 Batch 2:  Loss:     0.0095 Validation Accuracy: 0.649800\n",
      "Epoch 63, CIFAR-10 Batch 3:  Loss:     0.0158 Validation Accuracy: 0.643800\n",
      "Epoch 63, CIFAR-10 Batch 4:  Loss:     0.0183 Validation Accuracy: 0.662800\n",
      "Epoch 63, CIFAR-10 Batch 5:  Loss:     0.0308 Validation Accuracy: 0.648600\n",
      "Epoch 64, CIFAR-10 Batch 1:  Loss:     0.0141 Validation Accuracy: 0.653200\n",
      "Epoch 64, CIFAR-10 Batch 2:  Loss:     0.0060 Validation Accuracy: 0.646000\n",
      "Epoch 64, CIFAR-10 Batch 3:  Loss:     0.0234 Validation Accuracy: 0.647400\n",
      "Epoch 64, CIFAR-10 Batch 4:  Loss:     0.0603 Validation Accuracy: 0.656800\n",
      "Epoch 64, CIFAR-10 Batch 5:  Loss:     0.0042 Validation Accuracy: 0.655600\n",
      "Epoch 65, CIFAR-10 Batch 1:  Loss:     0.0275 Validation Accuracy: 0.640800\n",
      "Epoch 65, CIFAR-10 Batch 2:  Loss:     0.0145 Validation Accuracy: 0.646200\n",
      "Epoch 65, CIFAR-10 Batch 3:  Loss:     0.0026 Validation Accuracy: 0.635000\n",
      "Epoch 65, CIFAR-10 Batch 4:  Loss:     0.0095 Validation Accuracy: 0.660800\n",
      "Epoch 65, CIFAR-10 Batch 5:  Loss:     0.0605 Validation Accuracy: 0.650600\n",
      "Epoch 66, CIFAR-10 Batch 1:  Loss:     0.0670 Validation Accuracy: 0.650600\n",
      "Epoch 66, CIFAR-10 Batch 2:  Loss:     0.0052 Validation Accuracy: 0.649800\n",
      "Epoch 66, CIFAR-10 Batch 3:  Loss:     0.0025 Validation Accuracy: 0.650600\n",
      "Epoch 66, CIFAR-10 Batch 4:  Loss:     0.0651 Validation Accuracy: 0.661000\n",
      "Epoch 66, CIFAR-10 Batch 5:  Loss:     0.0217 Validation Accuracy: 0.650400\n",
      "Epoch 67, CIFAR-10 Batch 1:  Loss:     0.0107 Validation Accuracy: 0.660600\n",
      "Epoch 67, CIFAR-10 Batch 2:  Loss:     0.0223 Validation Accuracy: 0.647800\n",
      "Epoch 67, CIFAR-10 Batch 3:  Loss:     0.0015 Validation Accuracy: 0.653200\n",
      "Epoch 67, CIFAR-10 Batch 4:  Loss:     0.0145 Validation Accuracy: 0.649000\n",
      "Epoch 67, CIFAR-10 Batch 5:  Loss:     0.0107 Validation Accuracy: 0.648400\n",
      "Epoch 68, CIFAR-10 Batch 1:  Loss:     0.0124 Validation Accuracy: 0.649600\n",
      "Epoch 68, CIFAR-10 Batch 2:  Loss:     0.0200 Validation Accuracy: 0.654400\n",
      "Epoch 68, CIFAR-10 Batch 3:  Loss:     0.0062 Validation Accuracy: 0.661800\n",
      "Epoch 68, CIFAR-10 Batch 4:  Loss:     0.0265 Validation Accuracy: 0.658000\n",
      "Epoch 68, CIFAR-10 Batch 5:  Loss:     0.0079 Validation Accuracy: 0.645000\n",
      "Epoch 69, CIFAR-10 Batch 1:  Loss:     0.0238 Validation Accuracy: 0.644200\n",
      "Epoch 69, CIFAR-10 Batch 2:  Loss:     0.0191 Validation Accuracy: 0.664200\n",
      "Epoch 69, CIFAR-10 Batch 3:  Loss:     0.0020 Validation Accuracy: 0.653400\n",
      "Epoch 69, CIFAR-10 Batch 4:  Loss:     0.0052 Validation Accuracy: 0.667000\n",
      "Epoch 69, CIFAR-10 Batch 5:  Loss:     0.0759 Validation Accuracy: 0.652600\n",
      "Epoch 70, CIFAR-10 Batch 1:  Loss:     0.1157 Validation Accuracy: 0.658200\n",
      "Epoch 70, CIFAR-10 Batch 2:  Loss:     0.0016 Validation Accuracy: 0.656000\n",
      "Epoch 70, CIFAR-10 Batch 3:  Loss:     0.0213 Validation Accuracy: 0.634000\n",
      "Epoch 70, CIFAR-10 Batch 4:  Loss:     0.0882 Validation Accuracy: 0.641400\n",
      "Epoch 70, CIFAR-10 Batch 5:  Loss:     0.0377 Validation Accuracy: 0.644600\n",
      "Epoch 71, CIFAR-10 Batch 1:  Loss:     0.0571 Validation Accuracy: 0.648400\n",
      "Epoch 71, CIFAR-10 Batch 2:  Loss:     0.0282 Validation Accuracy: 0.639000\n",
      "Epoch 71, CIFAR-10 Batch 3:  Loss:     0.0963 Validation Accuracy: 0.647600\n",
      "Epoch 71, CIFAR-10 Batch 4:  Loss:     0.0291 Validation Accuracy: 0.662600\n",
      "Epoch 71, CIFAR-10 Batch 5:  Loss:     0.0043 Validation Accuracy: 0.652800\n",
      "Epoch 72, CIFAR-10 Batch 1:  Loss:     0.0081 Validation Accuracy: 0.659800\n",
      "Epoch 72, CIFAR-10 Batch 2:  Loss:     0.0016 Validation Accuracy: 0.661400\n",
      "Epoch 72, CIFAR-10 Batch 3:  Loss:     0.0014 Validation Accuracy: 0.653400\n",
      "Epoch 72, CIFAR-10 Batch 4:  Loss:     0.0021 Validation Accuracy: 0.665000\n",
      "Epoch 72, CIFAR-10 Batch 5:  Loss:     0.0088 Validation Accuracy: 0.650800\n",
      "Epoch 73, CIFAR-10 Batch 1:  Loss:     0.0141 Validation Accuracy: 0.649800\n",
      "Epoch 73, CIFAR-10 Batch 2:  Loss:     0.0010 Validation Accuracy: 0.657000\n",
      "Epoch 73, CIFAR-10 Batch 3:  Loss:     0.0047 Validation Accuracy: 0.658200\n",
      "Epoch 73, CIFAR-10 Batch 4:  Loss:     0.0222 Validation Accuracy: 0.660400\n",
      "Epoch 73, CIFAR-10 Batch 5:  Loss:     0.0038 Validation Accuracy: 0.656800\n",
      "Epoch 74, CIFAR-10 Batch 1:  Loss:     0.0123 Validation Accuracy: 0.656200\n",
      "Epoch 74, CIFAR-10 Batch 2:  Loss:     0.0047 Validation Accuracy: 0.654000\n",
      "Epoch 74, CIFAR-10 Batch 3:  Loss:     0.0056 Validation Accuracy: 0.656000\n",
      "Epoch 74, CIFAR-10 Batch 4:  Loss:     0.0209 Validation Accuracy: 0.653000\n",
      "Epoch 74, CIFAR-10 Batch 5:  Loss:     0.0090 Validation Accuracy: 0.645200\n",
      "Epoch 75, CIFAR-10 Batch 1:  Loss:     0.0236 Validation Accuracy: 0.642600\n",
      "Epoch 75, CIFAR-10 Batch 2:  Loss:     0.0114 Validation Accuracy: 0.658600\n",
      "Epoch 75, CIFAR-10 Batch 3:  Loss:     0.0487 Validation Accuracy: 0.652400\n",
      "Epoch 75, CIFAR-10 Batch 4:  Loss:     0.0507 Validation Accuracy: 0.664800\n",
      "Epoch 75, CIFAR-10 Batch 5:  Loss:     0.0219 Validation Accuracy: 0.653800\n",
      "Epoch 76, CIFAR-10 Batch 1:  Loss:     0.0106 Validation Accuracy: 0.649200\n",
      "Epoch 76, CIFAR-10 Batch 2:  Loss:     0.0087 Validation Accuracy: 0.658400\n",
      "Epoch 76, CIFAR-10 Batch 3:  Loss:     0.0018 Validation Accuracy: 0.647800\n",
      "Epoch 76, CIFAR-10 Batch 4:  Loss:     0.0006 Validation Accuracy: 0.651000\n",
      "Epoch 76, CIFAR-10 Batch 5:  Loss:     0.0198 Validation Accuracy: 0.652600\n",
      "Epoch 77, CIFAR-10 Batch 1:  Loss:     0.0347 Validation Accuracy: 0.652000\n",
      "Epoch 77, CIFAR-10 Batch 2:  Loss:     0.0030 Validation Accuracy: 0.656600\n",
      "Epoch 77, CIFAR-10 Batch 3:  Loss:     0.0007 Validation Accuracy: 0.651800\n",
      "Epoch 77, CIFAR-10 Batch 4:  Loss:     0.0093 Validation Accuracy: 0.659200\n",
      "Epoch 77, CIFAR-10 Batch 5:  Loss:     0.0207 Validation Accuracy: 0.660400\n",
      "Epoch 78, CIFAR-10 Batch 1:  Loss:     0.0346 Validation Accuracy: 0.643800\n",
      "Epoch 78, CIFAR-10 Batch 2:  Loss:     0.0038 Validation Accuracy: 0.642400\n",
      "Epoch 78, CIFAR-10 Batch 3:  Loss:     0.0125 Validation Accuracy: 0.652000\n",
      "Epoch 78, CIFAR-10 Batch 4:  Loss:     0.0166 Validation Accuracy: 0.657000\n",
      "Epoch 78, CIFAR-10 Batch 5:  Loss:     0.0106 Validation Accuracy: 0.649800\n",
      "Epoch 79, CIFAR-10 Batch 1:  Loss:     0.0117 Validation Accuracy: 0.652800\n",
      "Epoch 79, CIFAR-10 Batch 2:  Loss:     0.1430 Validation Accuracy: 0.651400\n",
      "Epoch 79, CIFAR-10 Batch 3:  Loss:     0.0103 Validation Accuracy: 0.648600\n",
      "Epoch 79, CIFAR-10 Batch 4:  Loss:     0.0034 Validation Accuracy: 0.657600\n",
      "Epoch 79, CIFAR-10 Batch 5:  Loss:     0.0760 Validation Accuracy: 0.647800\n",
      "Epoch 80, CIFAR-10 Batch 1:  Loss:     0.0760 Validation Accuracy: 0.656000\n",
      "Epoch 80, CIFAR-10 Batch 2:  Loss:     0.0259 Validation Accuracy: 0.653200\n",
      "Epoch 80, CIFAR-10 Batch 3:  Loss:     0.0022 Validation Accuracy: 0.645400\n",
      "Epoch 80, CIFAR-10 Batch 4:  Loss:     0.0509 Validation Accuracy: 0.653800\n",
      "Epoch 80, CIFAR-10 Batch 5:  Loss:     0.0050 Validation Accuracy: 0.643800\n"
     ]
    }
   ],
   "source": [
    "\"\"\"\n",
    "DON'T MODIFY ANYTHING IN THIS CELL\n",
    "\"\"\"\n",
    "save_model_path = './image_classification'\n",
    "\n",
    "print('Training...')\n",
    "with tf.Session() as sess:\n",
    "    # Initializing the variables\n",
    "    sess.run(tf.global_variables_initializer())\n",
    "    \n",
    "    # Training cycle\n",
    "    for epoch in range(epochs):\n",
    "        # Loop over all batches\n",
    "        n_batches = 5\n",
    "        for batch_i in range(1, n_batches + 1):\n",
    "            for batch_features, batch_labels in helper.load_preprocess_training_batch(batch_i, batch_size):\n",
    "                train_neural_network(sess, optimizer, keep_probability, batch_features, batch_labels)\n",
    "            print('Epoch {:>2}, CIFAR-10 Batch {}:  '.format(epoch + 1, batch_i), end='')\n",
    "            print_stats(sess, batch_features, batch_labels, cost, accuracy)\n",
    "            \n",
    "    # Save Model\n",
    "    saver = tf.train.Saver()\n",
    "    save_path = saver.save(sess, save_model_path)"
   ]
  },
  {
   "cell_type": "markdown",
   "metadata": {
    "deletable": true,
    "editable": true
   },
   "source": [
    "# Checkpoint\n",
    "The model has been saved to disk.\n",
    "## Test Model\n",
    "Test your model against the test dataset.  This will be your final accuracy. You should have an accuracy greater than 50%. If you don't, keep tweaking the model architecture and parameters."
   ]
  },
  {
   "cell_type": "code",
   "execution_count": 20,
   "metadata": {
    "collapsed": false,
    "deletable": true,
    "editable": true
   },
   "outputs": [
    {
     "name": "stdout",
     "output_type": "stream",
     "text": [
      "Testing Accuracy: 0.6555533439490446\n",
      "\n"
     ]
    },
    {
     "data": {
      "image/png": "[encoded data removed]",
      "text/plain": [
       "<matplotlib.figure.Figure at 0x2cb8021f9b0>"
      ]
     },
     "metadata": {
      "image/png": {
       "height": 319,
       "width": 355
      }
     },
     "output_type": "display_data"
    }
   ],
   "source": [
    "\"\"\"\n",
    "DON'T MODIFY ANYTHING IN THIS CELL\n",
    "\"\"\"\n",
    "%matplotlib inline\n",
    "%config InlineBackend.figure_format = 'retina'\n",
    "\n",
    "import tensorflow as tf\n",
    "import pickle\n",
    "import helper\n",
    "import random\n",
    "\n",
    "# Set batch size if not already set\n",
    "try:\n",
    "    if batch_size:\n",
    "        pass\n",
    "except NameError:\n",
    "    batch_size = 64\n",
    "\n",
    "save_model_path = './image_classification'\n",
    "n_samples = 4\n",
    "top_n_predictions = 3\n",
    "\n",
    "def test_model():\n",
    "    \"\"\"\n",
    "    Test the saved model against the test dataset\n",
    "    \"\"\"\n",
    "\n",
    "    test_features, test_labels = pickle.load(open('preprocess_training.p', mode='rb'))\n",
    "    loaded_graph = tf.Graph()\n",
    "\n",
    "    with tf.Session(graph=loaded_graph) as sess:\n",
    "        # Load model\n",
    "        loader = tf.train.import_meta_graph(save_model_path + '.meta')\n",
    "        loader.restore(sess, save_model_path)\n",
    "\n",
    "        # Get Tensors from loaded model\n",
    "        loaded_x = loaded_graph.get_tensor_by_name('x:0')\n",
    "        loaded_y = loaded_graph.get_tensor_by_name('y:0')\n",
    "        loaded_keep_prob = loaded_graph.get_tensor_by_name('keep_prob:0')\n",
    "        loaded_logits = loaded_graph.get_tensor_by_name('logits:0')\n",
    "        loaded_acc = loaded_graph.get_tensor_by_name('accuracy:0')\n",
    "        \n",
    "        # Get accuracy in batches for memory limitations\n",
    "        test_batch_acc_total = 0\n",
    "        test_batch_count = 0\n",
    "        \n",
    "        for train_feature_batch, train_label_batch in helper.batch_features_labels(test_features, test_labels, batch_size):\n",
    "            test_batch_acc_total += sess.run(\n",
    "                loaded_acc,\n",
    "                feed_dict={loaded_x: train_feature_batch, loaded_y: train_label_batch, loaded_keep_prob: 1.0})\n",
    "            test_batch_count += 1\n",
    "\n",
    "        print('Testing Accuracy: {}\\n'.format(test_batch_acc_total/test_batch_count))\n",
    "\n",
    "        # Print Random Samples\n",
    "        random_test_features, random_test_labels = tuple(zip(*random.sample(list(zip(test_features, test_labels)), n_samples)))\n",
    "        random_test_predictions = sess.run(\n",
    "            tf.nn.top_k(tf.nn.softmax(loaded_logits), top_n_predictions),\n",
    "            feed_dict={loaded_x: random_test_features, loaded_y: random_test_labels, loaded_keep_prob: 1.0})\n",
    "        helper.display_image_predictions(random_test_features, random_test_labels, random_test_predictions)\n",
    "\n",
    "\n",
    "test_model()"
   ]
  },
  {
   "cell_type": "markdown",
   "metadata": {
    "deletable": true,
    "editable": true
   },
   "source": [
    "## Why 50-70% Accuracy?\n",
    "You might be wondering why you can't get an accuracy any higher. First things first, 50% isn't bad for a simple CNN.  Pure guessing would get you 10% accuracy. However, you might notice people are getting scores [well above 70%](http://rodrigob.github.io/are_we_there_yet/build/classification_datasets_results.html#43494641522d3130).  That's because we haven't taught you all there is to know about neural networks. We still need to cover a few more techniques.\n",
    "## Submitting This Project\n",
    "When submitting this project, make sure to run all the cells before saving the notebook.  Save the notebook file as \"dlnd_image_classification.ipynb\" and save it as a HTML file under \"File\" -> \"Download as\".  Include the \"helper.py\" and \"problem_unittests.py\" files in your submission."
   ]
  },
  {
   "cell_type": "code",
   "execution_count": null,
   "metadata": {
    "collapsed": true,
    "deletable": true,
    "editable": true
   },
   "outputs": [],
   "source": []
  }
 ],
 "metadata": {
  "kernelspec": {
   "display_name": "Python 3",
   "language": "python",
   "name": "python3"
  },
  "language_info": {
   "codemirror_mode": {
    "name": "ipython",
    "version": 3
   },
   "file_extension": ".py",
   "mimetype": "text/x-python",
   "name": "python",
   "nbconvert_exporter": "python",
   "pygments_lexer": "ipython3",
   "version": "3.5.2"
  },
  "widgets": {
   "state": {},
   "version": "1.1.2"
  }
 },
 "nbformat": 4,
 "nbformat_minor": 0
}
